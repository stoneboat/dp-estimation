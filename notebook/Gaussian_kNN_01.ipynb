{
 "cells": [
  {
   "cell_type": "code",
   "execution_count": 1,
   "id": "62ce65b3-174c-48de-8ef7-05c84b6ae11d",
   "metadata": {},
   "outputs": [],
   "source": [
    "import numpy as np\n",
    "from scipy.special import erf\n",
    "import os\n",
    "import sys\n",
    "import time\n",
    "import copy\n",
    "import logging\n",
    "import matplotlib.pyplot as plt\n",
    "\n",
    "# Navigate to the parent directory of the project structure\n",
    "project_dir = os.path.abspath(os.path.join(os.getcwd(), '..'))\n",
    "src_dir = os.path.join(project_dir, 'src')\n",
    "log_dir = os.path.join(project_dir, 'log')\n",
    "fig_dir = os.path.join(project_dir, 'fig')\n",
    "\n",
    "# Add the src directory to sys.path\n",
    "sys.path.append(src_dir)\n",
    "\n",
    "from estimator.Gaussian import GaussianEstimator\n",
    "from analysis.commons import batch_estimator_estimated_delta, compute_bootstrap_range\n",
    "from utils.constants import WORKERS"
   ]
  },
  {
   "cell_type": "code",
   "execution_count": 2,
   "id": "2bbe5a75-b2ec-43cf-bfb1-449dd8f212ab",
   "metadata": {},
   "outputs": [],
   "source": [
    "def generate_default_configuration():\n",
    "    epsilon = 1\n",
    "    claimed_epsilon = 1\n",
    "    gamma = 0.01\n",
    "\n",
    "    dataset_settings = {\n",
    "        'database_0': [0],\n",
    "        'database_1': [1],\n",
    "        'sensitivity': 1.,\n",
    "        'epsilon': epsilon,\n",
    "        'claimed_epsilon': claimed_epsilon,\n",
    "        'delta': 0.00001\n",
    "    }\n",
    "\n",
    "    kwargs = {\n",
    "        'dataset_settings': dataset_settings, \n",
    "        'gamma': gamma,\n",
    "        'training_set_size': 10**7, 'validation_set_size': 10**7\n",
    "    }\n",
    "    return kwargs\n",
    "\n",
    "def store_array_str(data_array):\n",
    "    converted_str = np.array_str(data_array)\n",
    "    converted_str = converted_str.replace(' ',',')\n",
    "    return converted_str"
   ]
  },
  {
   "cell_type": "code",
   "execution_count": 3,
   "id": "0f17ee28-17f1-48cc-aa35-bb0dcdfa5988",
   "metadata": {},
   "outputs": [],
   "source": [
    "logfile_path = os.path.join(log_dir, 'kNN-Gaussian-default.log')\n",
    "\n",
    "logging.basicConfig(\n",
    "        level=logging.CRITICAL,\n",
    "        format=\"%(asctime)s %(message)s\",\n",
    "        handlers=[\n",
    "            logging.FileHandler(logfile_path),\n",
    "            logging.StreamHandler()\n",
    "        ]\n",
    "    )\n",
    "\n",
    "logging.info('Initialize the experimental settings')\n",
    "kwargs = generate_default_configuration()"
   ]
  },
  {
   "cell_type": "code",
   "execution_count": 4,
   "id": "34850b23-5627-4522-84c0-86d9aca45cc1",
   "metadata": {},
   "outputs": [
    {
     "name": "stderr",
     "output_type": "stream",
     "text": [
      "2024-12-08 15:48:59,100 Compute the empirical error rate requires 291.8964 seconds\n",
      "2024-12-08 15:48:59,374 Compute the empirical error rate requires 293.0680 seconds\n",
      "2024-12-08 15:48:59,918 Compute the empirical error rate requires 293.0645 seconds\n",
      "2024-12-08 15:49:00,342 Compute the empirical error rate requires 293.6872 seconds\n",
      "2024-12-08 15:49:00,737 Compute the empirical error rate requires 293.9086 seconds\n",
      "2024-12-08 15:49:00,750 Compute the empirical error rate requires 293.2774 seconds\n",
      "2024-12-08 15:49:01,023 Compute the empirical error rate requires 294.5295 seconds\n",
      "2024-12-08 15:49:01,178 Compute the empirical error rate requires 294.2750 seconds\n",
      "2024-12-08 15:49:01,195 Compute the empirical error rate requires 293.6431 seconds\n",
      "2024-12-08 15:49:01,211 Compute the empirical error rate requires 294.5801 seconds\n",
      "2024-12-08 15:49:01,393 Compute the empirical error rate requires 295.0010 seconds\n",
      "2024-12-08 15:49:01,432 Compute the empirical error rate requires 294.8700 seconds\n",
      "2024-12-08 15:49:01,951 Compute the empirical error rate requires 295.6002 seconds\n",
      "2024-12-08 15:49:01,992 Compute the empirical error rate requires 294.3807 seconds\n",
      "2024-12-08 15:49:02,097 Compute the empirical error rate requires 294.5517 seconds\n",
      "2024-12-08 15:49:02,708 Compute the empirical error rate requires 295.7195 seconds\n",
      "2024-12-08 15:49:03,562 Compute the empirical error rate requires 296.8708 seconds\n",
      "2024-12-08 15:49:03,959 Compute the empirical error rate requires 298.1407 seconds\n",
      "2024-12-08 15:49:04,833 Compute the empirical error rate requires 298.4991 seconds\n",
      "2024-12-08 15:49:06,551 Compute the empirical error rate requires 300.2170 seconds\n",
      "2024-12-08 15:49:06,670 Compute the empirical error rate requires 298.6158 seconds\n",
      "2024-12-08 15:49:07,819 Compute the empirical error rate requires 301.4224 seconds\n",
      "2024-12-08 15:49:07,852 Compute the empirical error rate requires 299.6486 seconds\n",
      "2024-12-08 15:49:08,247 Compute the empirical error rate requires 300.8480 seconds\n",
      "2024-12-08 15:49:08,361 Compute the empirical error rate requires 300.3754 seconds\n",
      "2024-12-08 15:49:10,495 Compute the empirical error rate requires 304.1090 seconds\n",
      "2024-12-08 15:49:13,730 Compute the empirical error rate requires 307.3392 seconds\n"
     ]
    }
   ],
   "source": [
    "claimed_epsilon_list = np.hstack((np.arange(0.01, 0.1, 0.01), np.arange(0.1, 1, 0.05)))\n",
    "input_list = []\n",
    "for claimed_epsilon in claimed_epsilon_list:\n",
    "    kwargs['dataset_settings']['claimed_epsilon'] = claimed_epsilon\n",
    "    input_ = copy.deepcopy({'estimator_cls': GaussianEstimator, 'config': kwargs})\n",
    "    input_list.append(input_)\n",
    "\n",
    "estimated_delta = batch_estimator_estimated_delta(kwargs_lists=input_list, workers=60)"
   ]
  },
  {
   "cell_type": "code",
   "execution_count": 5,
   "id": "3e771465-ce9b-44fe-a31e-4538b4a290a2",
   "metadata": {},
   "outputs": [],
   "source": [
    "from scipy import special\n",
    "sensitivity = 1\n",
    "epsilon1 = 1\n",
    "delta1 = 0.00001\n",
    "gaussian_scale = 2*np.log(1.25/delta1)*np.power(sensitivity, 2)/np.power(epsilon1, 2)\n",
    "claimed_epsilon_list = np.hstack((np.arange(0.01, 0.1, 0.01), np.arange(0.1, 1, 0.05)))"
   ]
  },
  {
   "cell_type": "code",
   "execution_count": 8,
   "id": "30f3ed3e-44d5-4fa1-83c6-63a49214a599",
   "metadata": {},
   "outputs": [
    {
     "data": {
      "image/png": "[encoded data removed]",
      "text/plain": [
       "<Figure size 432x288 with 1 Axes>"
      ]
     },
     "metadata": {
      "needs_background": "light"
     },
     "output_type": "display_data"
    }
   ],
   "source": [
    "figfile_path = os.path.join(fig_dir, 'Gaussian_1d.png')\n",
    "\n",
    "x_star = 0.5*(1-2*gaussian_scale*claimed_epsilon_list)\n",
    "test = 0.5*(1 + special.erf(x_star/(np.sqrt(2*gaussian_scale))) - np.exp(claimed_epsilon_list)*(1 + special.erf((x_star-1)/(np.sqrt(2*gaussian_scale)))))\n",
    "\n",
    "plt.title(r'$\\mathcal{M}_{G, \\epsilon=1, \\delta=0.00001}$')\n",
    "plt.xlabel(r\"$\\epsilon \\in (0, 1)$\")\n",
    "plt.ylabel(\"optimal delta\")\n",
    "\n",
    "plt.plot(claimed_epsilon_list, test , color =\"blue\", label=r\"Analytically computed $\\delta$\")\n",
    "plt.plot(claimed_epsilon_list, estimated_delta , \".\", color =\"red\", label=r\"Estimated $\\delta$\")\n",
    "plt.legend(loc='upper right')\n",
    "plt.savefig(figfile_path, bbox_inches = 'tight', dpi = 150);\n",
    "plt.show()"
   ]
  }
 ],
 "metadata": {
  "kernelspec": {
   "display_name": "Python 3.8 - Learning [learning/conda-2020.11-py38-cpu]",
   "language": "python",
   "name": "sys_learning38"
  },
  "language_info": {
   "codemirror_mode": {
    "name": "ipython",
    "version": 3
   },
   "file_extension": ".py",
   "mimetype": "text/x-python",
   "name": "python",
   "nbconvert_exporter": "python",
   "pygments_lexer": "ipython3",
   "version": "3.8.5"
  }
 },
 "nbformat": 4,
 "nbformat_minor": 5
}
