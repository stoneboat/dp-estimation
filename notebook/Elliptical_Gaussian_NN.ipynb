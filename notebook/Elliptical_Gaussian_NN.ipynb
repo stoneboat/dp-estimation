{
 "cells": [
  {
   "cell_type": "code",
   "execution_count": 1,
   "id": "62ce65b3-174c-48de-8ef7-05c84b6ae11d",
   "metadata": {},
   "outputs": [],
   "source": [
    "import numpy as np\n",
    "from scipy.special import erf\n",
    "import os\n",
    "import sys\n",
    "import time\n",
    "import copy\n",
    "import logging\n",
    "import matplotlib.pyplot as plt\n",
    "\n",
    "# Navigate to the parent directory of the project structure\n",
    "project_dir = os.path.abspath(os.path.join(os.getcwd(), '..'))\n",
    "src_dir = os.path.join(project_dir, 'src')\n",
    "log_dir = os.path.join(project_dir, 'log')\n",
    "fig_dir = os.path.join(project_dir, 'fig')\n",
    "\n",
    "os.makedirs(log_dir, exist_ok=True)\n",
    "os.makedirs(fig_dir, exist_ok=True)\n",
    "\n",
    "# Add the src directory to sys.path\n",
    "sys.path.append(src_dir)\n",
    "\n",
    "from estimator.Gaussian import GaussianEstimator\n",
    "from analysis.commons import batch_estimator_estimated_delta, compute_bootstrap_range\n",
    "from utils.constants import WORKERS"
   ]
  },
  {
   "cell_type": "code",
   "execution_count": 11,
   "id": "2bbe5a75-b2ec-43cf-bfb1-449dd8f212ab",
   "metadata": {},
   "outputs": [],
   "source": [
    "def generate_default_configuration():\n",
    "    epsilon = 1\n",
    "    claimed_epsilon = 1\n",
    "    gamma = 0.01\n",
    "\n",
    "    dataset_settings = {\n",
    "        'database_0': [0],\n",
    "        'database_1': [1],\n",
    "        'sensitivity': 1.,\n",
    "        'epsilon': epsilon,\n",
    "        'claimed_epsilon': claimed_epsilon,\n",
    "        'delta': 0.00001\n",
    "    }\n",
    "\n",
    "    kwargs = {\n",
    "        'dataset_settings': dataset_settings, \n",
    "        'gamma': gamma,\n",
    "        'training_set_size': 2*10**5, 'validation_set_size': 10**6\n",
    "    }\n",
    "    return kwargs\n",
    "\n",
    "def store_array_str(data_array):\n",
    "    converted_str = np.array_str(data_array)\n",
    "    converted_str = converted_str.replace(' ',',')\n",
    "    return converted_str"
   ]
  },
  {
   "cell_type": "code",
   "execution_count": 12,
   "id": "0f17ee28-17f1-48cc-aa35-bb0dcdfa5988",
   "metadata": {},
   "outputs": [],
   "source": [
    "logfile_path = os.path.join(log_dir, 'NN-EllipticalGaussian.log')\n",
    "\n",
    "logging.basicConfig(\n",
    "        level=logging.INFO,\n",
    "        format=\"%(asctime)s %(message)s\",\n",
    "        handlers=[\n",
    "            logging.FileHandler(logfile_path),\n",
    "            logging.StreamHandler()\n",
    "        ]\n",
    "    )\n",
    "\n",
    "logging.info('Initialize the experimental settings')\n",
    "kwargs = generate_default_configuration()"
   ]
  },
  {
   "cell_type": "code",
   "execution_count": 13,
   "id": "34850b23-5627-4522-84c0-86d9aca45cc1",
   "metadata": {},
   "outputs": [
    {
     "name": "stdout",
     "output_type": "stream",
     "text": [
      "Initializing model\n"
     ]
    },
    {
     "name": "stderr",
     "output_type": "stream",
     "text": [
      "2025-07-03 16:07:44,469 [epoch 1, batch   100] average loss: 1.165608 learning rate=0.000100000\n",
      "2025-07-03 16:07:44,982 [epoch 1, batch   200] average loss: 1.183785 learning rate=0.000100000\n",
      "2025-07-03 16:07:45,496 [epoch 1, batch   300] average loss: 1.118878 learning rate=0.000100000\n",
      "2025-07-03 16:07:46,009 [epoch 1, batch   400] average loss: 1.081105 learning rate=0.000100000\n",
      "2025-07-03 16:07:46,546 [epoch 2, batch   100] average loss: 1.047059 learning rate=0.000100000\n",
      "2025-07-03 16:07:47,065 [epoch 2, batch   200] average loss: 1.189065 learning rate=0.000100000\n",
      "2025-07-03 16:07:47,581 [epoch 2, batch   300] average loss: 1.112640 learning rate=0.000100000\n",
      "2025-07-03 16:07:48,095 [epoch 2, batch   400] average loss: 1.130669 learning rate=0.000100000\n",
      "2025-07-03 16:07:48,631 [epoch 3, batch   100] average loss: 1.087670 learning rate=0.000100000\n",
      "2025-07-03 16:07:49,317 [epoch 3, batch   200] average loss: 1.139399 learning rate=0.000100000\n",
      "2025-07-03 16:07:49,833 [epoch 3, batch   300] average loss: 1.136364 learning rate=0.000100000\n",
      "2025-07-03 16:07:50,349 [epoch 3, batch   400] average loss: 1.166383 learning rate=0.000100000\n",
      "2025-07-03 16:07:50,887 [epoch 4, batch   100] average loss: 1.070058 learning rate=0.000100000\n",
      "2025-07-03 16:07:51,406 [epoch 4, batch   200] average loss: 1.153177 learning rate=0.000100000\n",
      "2025-07-03 16:07:51,925 [epoch 4, batch   300] average loss: 1.120540 learning rate=0.000100000\n",
      "2025-07-03 16:07:52,442 [epoch 4, batch   400] average loss: 1.189051 learning rate=0.000100000\n",
      "2025-07-03 16:07:52,977 [epoch 5, batch   100] average loss: 1.173902 learning rate=0.000100000\n",
      "2025-07-03 16:07:53,493 [epoch 5, batch   200] average loss: 1.152774 learning rate=0.000100000\n",
      "2025-07-03 16:07:54,008 [epoch 5, batch   300] average loss: 1.100061 learning rate=0.000100000\n",
      "2025-07-03 16:07:54,526 [epoch 5, batch   400] average loss: 1.193004 learning rate=0.000100000\n",
      "2025-07-03 16:07:55,063 [epoch 6, batch   100] average loss: 1.107573 learning rate=0.000100000\n",
      "2025-07-03 16:07:55,595 [epoch 6, batch   200] average loss: 1.145521 learning rate=0.000100000\n",
      "2025-07-03 16:07:56,111 [epoch 6, batch   300] average loss: 1.160478 learning rate=0.000100000\n",
      "2025-07-03 16:07:56,627 [epoch 6, batch   400] average loss: 1.225513 learning rate=0.000100000\n",
      "2025-07-03 16:07:57,164 [epoch 7, batch   100] average loss: 1.204510 learning rate=0.000100000\n",
      "2025-07-03 16:07:57,681 [epoch 7, batch   200] average loss: 1.155463 learning rate=0.000100000\n",
      "2025-07-03 16:07:58,196 [epoch 7, batch   300] average loss: 1.163980 learning rate=0.000100000\n",
      "2025-07-03 16:07:58,711 [epoch 7, batch   400] average loss: 1.169201 learning rate=0.000100000\n",
      "2025-07-03 16:07:59,250 [epoch 8, batch   100] average loss: 1.168886 learning rate=0.000100000\n",
      "2025-07-03 16:07:59,766 [epoch 8, batch   200] average loss: 1.097791 learning rate=0.000100000\n",
      "2025-07-03 16:08:00,280 [epoch 8, batch   300] average loss: 1.152817 learning rate=0.000100000\n",
      "2025-07-03 16:08:00,795 [epoch 8, batch   400] average loss: 1.187777 learning rate=0.000100000\n",
      "2025-07-03 16:08:01,333 [epoch 9, batch   100] average loss: 1.114152 learning rate=0.000100000\n",
      "2025-07-03 16:08:01,848 [epoch 9, batch   200] average loss: 1.201974 learning rate=0.000100000\n",
      "2025-07-03 16:08:02,365 [epoch 9, batch   300] average loss: 1.176049 learning rate=0.000100000\n",
      "2025-07-03 16:08:02,882 [epoch 9, batch   400] average loss: 1.197857 learning rate=0.000100000\n",
      "2025-07-03 16:08:03,420 [epoch 10, batch   100] average loss: 1.160215 learning rate=0.000100000\n",
      "2025-07-03 16:08:03,943 [epoch 10, batch   200] average loss: 1.177936 learning rate=0.000100000\n",
      "2025-07-03 16:08:04,465 [epoch 10, batch   300] average loss: 1.132255 learning rate=0.000100000\n",
      "2025-07-03 16:08:04,983 [epoch 10, batch   400] average loss: 1.176080 learning rate=0.000100000\n",
      "2025-07-03 16:08:05,524 [epoch 11, batch   100] average loss: 1.185121 learning rate=0.000010000\n",
      "2025-07-03 16:08:06,044 [epoch 11, batch   200] average loss: 1.205499 learning rate=0.000010000\n",
      "2025-07-03 16:08:06,561 [epoch 11, batch   300] average loss: 1.220650 learning rate=0.000010000\n",
      "2025-07-03 16:08:07,078 [epoch 11, batch   400] average loss: 1.151130 learning rate=0.000010000\n",
      "2025-07-03 16:08:07,620 [epoch 12, batch   100] average loss: 1.191124 learning rate=0.000010000\n",
      "2025-07-03 16:08:08,147 [epoch 12, batch   200] average loss: 1.159225 learning rate=0.000010000\n",
      "2025-07-03 16:08:08,663 [epoch 12, batch   300] average loss: 1.193561 learning rate=0.000010000\n",
      "2025-07-03 16:08:09,181 [epoch 12, batch   400] average loss: 1.218472 learning rate=0.000010000\n",
      "2025-07-03 16:08:09,722 [epoch 13, batch   100] average loss: 1.171130 learning rate=0.000010000\n",
      "2025-07-03 16:08:10,246 [epoch 13, batch   200] average loss: 1.168853 learning rate=0.000010000\n",
      "2025-07-03 16:08:10,775 [epoch 13, batch   300] average loss: 1.221272 learning rate=0.000010000\n",
      "2025-07-03 16:08:11,301 [epoch 13, batch   400] average loss: 1.201017 learning rate=0.000010000\n",
      "2025-07-03 16:08:12,019 [epoch 14, batch   100] average loss: 1.210819 learning rate=0.000010000\n",
      "2025-07-03 16:08:12,552 [epoch 14, batch   200] average loss: 1.200680 learning rate=0.000010000\n",
      "2025-07-03 16:08:13,079 [epoch 14, batch   300] average loss: 1.179294 learning rate=0.000010000\n",
      "2025-07-03 16:08:13,600 [epoch 14, batch   400] average loss: 1.171726 learning rate=0.000010000\n",
      "2025-07-03 16:08:14,142 [epoch 15, batch   100] average loss: 1.163169 learning rate=0.000010000\n",
      "2025-07-03 16:08:14,661 [epoch 15, batch   200] average loss: 1.193460 learning rate=0.000010000\n",
      "2025-07-03 16:08:15,179 [epoch 15, batch   300] average loss: 1.185503 learning rate=0.000010000\n",
      "2025-07-03 16:08:15,700 [epoch 15, batch   400] average loss: 1.220351 learning rate=0.000010000\n",
      "2025-07-03 16:08:16,245 [epoch 16, batch   100] average loss: 1.197117 learning rate=0.000010000\n",
      "2025-07-03 16:08:16,773 [epoch 16, batch   200] average loss: 1.169630 learning rate=0.000010000\n",
      "2025-07-03 16:08:17,298 [epoch 16, batch   300] average loss: 1.240675 learning rate=0.000010000\n",
      "2025-07-03 16:08:17,822 [epoch 16, batch   400] average loss: 1.155111 learning rate=0.000010000\n",
      "2025-07-03 16:08:18,361 [epoch 17, batch   100] average loss: 1.193208 learning rate=0.000010000\n",
      "2025-07-03 16:08:18,877 [epoch 17, batch   200] average loss: 1.138828 learning rate=0.000010000\n",
      "2025-07-03 16:08:19,393 [epoch 17, batch   300] average loss: 1.211030 learning rate=0.000010000\n",
      "2025-07-03 16:08:19,911 [epoch 17, batch   400] average loss: 1.219500 learning rate=0.000010000\n",
      "2025-07-03 16:08:20,458 [epoch 18, batch   100] average loss: 1.182762 learning rate=0.000010000\n",
      "2025-07-03 16:08:20,983 [epoch 18, batch   200] average loss: 1.199026 learning rate=0.000010000\n",
      "2025-07-03 16:08:21,502 [epoch 18, batch   300] average loss: 1.207581 learning rate=0.000010000\n",
      "2025-07-03 16:08:22,019 [epoch 18, batch   400] average loss: 1.173168 learning rate=0.000010000\n",
      "2025-07-03 16:08:22,557 [epoch 19, batch   100] average loss: 1.161312 learning rate=0.000010000\n",
      "2025-07-03 16:08:23,075 [epoch 19, batch   200] average loss: 1.201312 learning rate=0.000010000\n",
      "2025-07-03 16:08:23,600 [epoch 19, batch   300] average loss: 1.242608 learning rate=0.000010000\n",
      "2025-07-03 16:08:24,131 [epoch 19, batch   400] average loss: 1.157373 learning rate=0.000010000\n",
      "2025-07-03 16:08:24,672 [epoch 20, batch   100] average loss: 1.199841 learning rate=0.000010000\n",
      "2025-07-03 16:08:25,195 [epoch 20, batch   200] average loss: 1.183251 learning rate=0.000010000\n",
      "2025-07-03 16:08:25,719 [epoch 20, batch   300] average loss: 1.202143 learning rate=0.000010000\n",
      "2025-07-03 16:08:26,239 [epoch 20, batch   400] average loss: 1.177436 learning rate=0.000010000\n",
      "2025-07-03 16:08:26,781 [epoch 21, batch   100] average loss: 1.223187 learning rate=0.000001000\n",
      "2025-07-03 16:08:27,304 [epoch 21, batch   200] average loss: 1.160913 learning rate=0.000001000\n",
      "2025-07-03 16:08:27,829 [epoch 21, batch   300] average loss: 1.214603 learning rate=0.000001000\n",
      "2025-07-03 16:08:28,349 [epoch 21, batch   400] average loss: 1.163248 learning rate=0.000001000\n",
      "2025-07-03 16:08:28,889 [epoch 22, batch   100] average loss: 1.206827 learning rate=0.000001000\n",
      "2025-07-03 16:08:29,413 [epoch 22, batch   200] average loss: 1.167178 learning rate=0.000001000\n",
      "2025-07-03 16:08:29,935 [epoch 22, batch   300] average loss: 1.147133 learning rate=0.000001000\n",
      "2025-07-03 16:08:30,456 [epoch 22, batch   400] average loss: 1.240705 learning rate=0.000001000\n",
      "2025-07-03 16:08:30,995 [epoch 23, batch   100] average loss: 1.181449 learning rate=0.000001000\n",
      "2025-07-03 16:08:31,512 [epoch 23, batch   200] average loss: 1.241884 learning rate=0.000001000\n",
      "2025-07-03 16:08:32,029 [epoch 23, batch   300] average loss: 1.230525 learning rate=0.000001000\n",
      "2025-07-03 16:08:32,546 [epoch 23, batch   400] average loss: 1.108015 learning rate=0.000001000\n",
      "2025-07-03 16:08:33,082 [epoch 24, batch   100] average loss: 1.222602 learning rate=0.000001000\n",
      "2025-07-03 16:08:33,599 [epoch 24, batch   200] average loss: 1.171363 learning rate=0.000001000\n",
      "2025-07-03 16:08:34,284 [epoch 24, batch   300] average loss: 1.181123 learning rate=0.000001000\n",
      "2025-07-03 16:08:34,801 [epoch 24, batch   400] average loss: 1.186749 learning rate=0.000001000\n",
      "2025-07-03 16:08:35,338 [epoch 25, batch   100] average loss: 1.201036 learning rate=0.000001000\n",
      "2025-07-03 16:08:35,856 [epoch 25, batch   200] average loss: 1.190510 learning rate=0.000001000\n",
      "2025-07-03 16:08:36,373 [epoch 25, batch   300] average loss: 1.189682 learning rate=0.000001000\n",
      "2025-07-03 16:08:36,891 [epoch 25, batch   400] average loss: 1.180649 learning rate=0.000001000\n",
      "2025-07-03 16:08:37,429 [epoch 26, batch   100] average loss: 1.199086 learning rate=0.000001000\n",
      "2025-07-03 16:08:37,947 [epoch 26, batch   200] average loss: 1.151329 learning rate=0.000001000\n",
      "2025-07-03 16:08:38,464 [epoch 26, batch   300] average loss: 1.208992 learning rate=0.000001000\n",
      "2025-07-03 16:08:38,982 [epoch 26, batch   400] average loss: 1.202454 learning rate=0.000001000\n",
      "2025-07-03 16:08:39,520 [epoch 27, batch   100] average loss: 1.211063 learning rate=0.000001000\n",
      "2025-07-03 16:08:40,044 [epoch 27, batch   200] average loss: 1.194842 learning rate=0.000001000\n",
      "2025-07-03 16:08:40,563 [epoch 27, batch   300] average loss: 1.210832 learning rate=0.000001000\n",
      "2025-07-03 16:08:41,080 [epoch 27, batch   400] average loss: 1.145119 learning rate=0.000001000\n",
      "2025-07-03 16:08:41,622 [epoch 28, batch   100] average loss: 1.258953 learning rate=0.000001000\n",
      "2025-07-03 16:08:42,145 [epoch 28, batch   200] average loss: 1.204744 learning rate=0.000001000\n",
      "2025-07-03 16:08:42,665 [epoch 28, batch   300] average loss: 1.144892 learning rate=0.000001000\n",
      "2025-07-03 16:08:43,191 [epoch 28, batch   400] average loss: 1.153258 learning rate=0.000001000\n",
      "2025-07-03 16:08:43,745 [epoch 29, batch   100] average loss: 1.190331 learning rate=0.000001000\n",
      "2025-07-03 16:08:44,277 [epoch 29, batch   200] average loss: 1.220619 learning rate=0.000001000\n",
      "2025-07-03 16:08:44,803 [epoch 29, batch   300] average loss: 1.173579 learning rate=0.000001000\n",
      "2025-07-03 16:08:45,342 [epoch 29, batch   400] average loss: 1.177333 learning rate=0.000001000\n",
      "2025-07-03 16:08:45,895 [epoch 30, batch   100] average loss: 1.177194 learning rate=0.000001000\n",
      "2025-07-03 16:08:46,435 [epoch 30, batch   200] average loss: 1.217067 learning rate=0.000001000\n",
      "2025-07-03 16:08:46,962 [epoch 30, batch   300] average loss: 1.157152 learning rate=0.000001000\n",
      "2025-07-03 16:08:47,488 [epoch 30, batch   400] average loss: 1.210453 learning rate=0.000001000\n",
      "2025-07-03 16:08:48,030 [epoch 31, batch   100] average loss: 1.239522 learning rate=0.000000100\n",
      "2025-07-03 16:08:48,554 [epoch 31, batch   200] average loss: 1.097193 learning rate=0.000000100\n",
      "2025-07-03 16:08:49,078 [epoch 31, batch   300] average loss: 1.232483 learning rate=0.000000100\n",
      "2025-07-03 16:08:49,601 [epoch 31, batch   400] average loss: 1.192584 learning rate=0.000000100\n",
      "2025-07-03 16:08:50,148 [epoch 32, batch   100] average loss: 1.215071 learning rate=0.000000100\n",
      "2025-07-03 16:08:50,677 [epoch 32, batch   200] average loss: 1.183502 learning rate=0.000000100\n",
      "2025-07-03 16:08:51,205 [epoch 32, batch   300] average loss: 1.153155 learning rate=0.000000100\n",
      "2025-07-03 16:08:51,729 [epoch 32, batch   400] average loss: 1.210042 learning rate=0.000000100\n",
      "2025-07-03 16:08:52,272 [epoch 33, batch   100] average loss: 1.139260 learning rate=0.000000100\n",
      "2025-07-03 16:08:52,808 [epoch 33, batch   200] average loss: 1.197803 learning rate=0.000000100\n",
      "2025-07-03 16:08:53,338 [epoch 33, batch   300] average loss: 1.247359 learning rate=0.000000100\n",
      "2025-07-03 16:08:53,877 [epoch 33, batch   400] average loss: 1.177353 learning rate=0.000000100\n",
      "2025-07-03 16:08:54,436 [epoch 34, batch   100] average loss: 1.192778 learning rate=0.000000100\n",
      "2025-07-03 16:08:54,975 [epoch 34, batch   200] average loss: 1.176972 learning rate=0.000000100\n",
      "2025-07-03 16:08:55,521 [epoch 34, batch   300] average loss: 1.192770 learning rate=0.000000100\n",
      "2025-07-03 16:08:56,080 [epoch 34, batch   400] average loss: 1.199249 learning rate=0.000000100\n",
      "2025-07-03 16:08:56,651 [epoch 35, batch   100] average loss: 1.173146 learning rate=0.000000100\n",
      "2025-07-03 16:08:57,360 [epoch 35, batch   200] average loss: 1.234475 learning rate=0.000000100\n",
      "2025-07-03 16:08:57,894 [epoch 35, batch   300] average loss: 1.177527 learning rate=0.000000100\n",
      "2025-07-03 16:08:58,424 [epoch 35, batch   400] average loss: 1.176623 learning rate=0.000000100\n",
      "2025-07-03 16:08:58,979 [epoch 36, batch   100] average loss: 1.179213 learning rate=0.000000100\n",
      "2025-07-03 16:08:59,511 [epoch 36, batch   200] average loss: 1.194658 learning rate=0.000000100\n",
      "2025-07-03 16:09:00,043 [epoch 36, batch   300] average loss: 1.194620 learning rate=0.000000100\n",
      "2025-07-03 16:09:00,574 [epoch 36, batch   400] average loss: 1.193281 learning rate=0.000000100\n",
      "2025-07-03 16:09:01,129 [epoch 37, batch   100] average loss: 1.160656 learning rate=0.000000100\n",
      "2025-07-03 16:09:01,660 [epoch 37, batch   200] average loss: 1.223072 learning rate=0.000000100\n",
      "2025-07-03 16:09:02,192 [epoch 37, batch   300] average loss: 1.199195 learning rate=0.000000100\n",
      "2025-07-03 16:09:02,721 [epoch 37, batch   400] average loss: 1.178851 learning rate=0.000000100\n",
      "2025-07-03 16:09:03,271 [epoch 38, batch   100] average loss: 1.155195 learning rate=0.000000100\n",
      "2025-07-03 16:09:03,797 [epoch 38, batch   200] average loss: 1.170597 learning rate=0.000000100\n",
      "2025-07-03 16:09:04,324 [epoch 38, batch   300] average loss: 1.211511 learning rate=0.000000100\n",
      "2025-07-03 16:09:04,848 [epoch 38, batch   400] average loss: 1.224468 learning rate=0.000000100\n",
      "2025-07-03 16:09:05,394 [epoch 39, batch   100] average loss: 1.187381 learning rate=0.000000100\n",
      "2025-07-03 16:09:05,914 [epoch 39, batch   200] average loss: 1.222810 learning rate=0.000000100\n",
      "2025-07-03 16:09:06,434 [epoch 39, batch   300] average loss: 1.146998 learning rate=0.000000100\n",
      "2025-07-03 16:09:06,953 [epoch 39, batch   400] average loss: 1.204581 learning rate=0.000000100\n",
      "2025-07-03 16:09:07,501 [epoch 40, batch   100] average loss: 1.164580 learning rate=0.000000100\n",
      "2025-07-03 16:09:08,030 [epoch 40, batch   200] average loss: 1.200609 learning rate=0.000000100\n",
      "2025-07-03 16:09:08,552 [epoch 40, batch   300] average loss: 1.189307 learning rate=0.000000100\n",
      "2025-07-03 16:09:09,081 [epoch 40, batch   400] average loss: 1.207281 learning rate=0.000000100\n",
      "2025-07-03 16:09:09,627 [epoch 41, batch   100] average loss: 1.258111 learning rate=0.000000010\n",
      "2025-07-03 16:09:10,143 [epoch 41, batch   200] average loss: 1.207290 learning rate=0.000000010\n",
      "2025-07-03 16:09:10,662 [epoch 41, batch   300] average loss: 1.180647 learning rate=0.000000010\n",
      "2025-07-03 16:09:11,179 [epoch 41, batch   400] average loss: 1.115710 learning rate=0.000000010\n",
      "2025-07-03 16:09:11,719 [epoch 42, batch   100] average loss: 1.200648 learning rate=0.000000010\n",
      "2025-07-03 16:09:12,238 [epoch 42, batch   200] average loss: 1.218263 learning rate=0.000000010\n",
      "2025-07-03 16:09:12,754 [epoch 42, batch   300] average loss: 1.181408 learning rate=0.000000010\n",
      "2025-07-03 16:09:13,270 [epoch 42, batch   400] average loss: 1.161439 learning rate=0.000000010\n",
      "2025-07-03 16:09:13,810 [epoch 43, batch   100] average loss: 1.132806 learning rate=0.000000010\n",
      "2025-07-03 16:09:14,327 [epoch 43, batch   200] average loss: 1.239071 learning rate=0.000000010\n",
      "2025-07-03 16:09:14,843 [epoch 43, batch   300] average loss: 1.161195 learning rate=0.000000010\n",
      "2025-07-03 16:09:15,360 [epoch 43, batch   400] average loss: 1.228686 learning rate=0.000000010\n",
      "2025-07-03 16:09:15,902 [epoch 44, batch   100] average loss: 1.182968 learning rate=0.000000010\n",
      "2025-07-03 16:09:16,427 [epoch 44, batch   200] average loss: 1.157156 learning rate=0.000000010\n",
      "2025-07-03 16:09:16,948 [epoch 44, batch   300] average loss: 1.202936 learning rate=0.000000010\n",
      "2025-07-03 16:09:17,475 [epoch 44, batch   400] average loss: 1.218698 learning rate=0.000000010\n",
      "2025-07-03 16:09:18,024 [epoch 45, batch   100] average loss: 1.155033 learning rate=0.000000010\n",
      "2025-07-03 16:09:18,548 [epoch 45, batch   200] average loss: 1.221300 learning rate=0.000000010\n",
      "2025-07-03 16:09:19,075 [epoch 45, batch   300] average loss: 1.198770 learning rate=0.000000010\n",
      "2025-07-03 16:09:19,600 [epoch 45, batch   400] average loss: 1.186654 learning rate=0.000000010\n",
      "2025-07-03 16:09:20,323 [epoch 46, batch   100] average loss: 1.182626 learning rate=0.000000010\n",
      "2025-07-03 16:09:20,844 [epoch 46, batch   200] average loss: 1.206713 learning rate=0.000000010\n",
      "2025-07-03 16:09:21,364 [epoch 46, batch   300] average loss: 1.155754 learning rate=0.000000010\n",
      "2025-07-03 16:09:21,888 [epoch 46, batch   400] average loss: 1.216665 learning rate=0.000000010\n",
      "2025-07-03 16:09:22,436 [epoch 47, batch   100] average loss: 1.213049 learning rate=0.000000010\n",
      "2025-07-03 16:09:22,953 [epoch 47, batch   200] average loss: 1.167176 learning rate=0.000000010\n",
      "2025-07-03 16:09:23,470 [epoch 47, batch   300] average loss: 1.198873 learning rate=0.000000010\n",
      "2025-07-03 16:09:23,987 [epoch 47, batch   400] average loss: 1.182660 learning rate=0.000000010\n",
      "2025-07-03 16:09:24,524 [epoch 48, batch   100] average loss: 1.214897 learning rate=0.000000010\n",
      "2025-07-03 16:09:25,041 [epoch 48, batch   200] average loss: 1.164897 learning rate=0.000000010\n",
      "2025-07-03 16:09:25,559 [epoch 48, batch   300] average loss: 1.246416 learning rate=0.000000010\n",
      "2025-07-03 16:09:26,076 [epoch 48, batch   400] average loss: 1.135547 learning rate=0.000000010\n",
      "2025-07-03 16:09:26,617 [epoch 49, batch   100] average loss: 1.234531 learning rate=0.000000010\n",
      "2025-07-03 16:09:27,136 [epoch 49, batch   200] average loss: 1.157676 learning rate=0.000000010\n",
      "2025-07-03 16:09:27,659 [epoch 49, batch   300] average loss: 1.213217 learning rate=0.000000010\n",
      "2025-07-03 16:09:28,180 [epoch 49, batch   400] average loss: 1.156334 learning rate=0.000000010\n",
      "2025-07-03 16:09:28,722 [epoch 50, batch   100] average loss: 1.185225 learning rate=0.000000010\n",
      "2025-07-03 16:09:29,240 [epoch 50, batch   200] average loss: 1.200793 learning rate=0.000000010\n",
      "2025-07-03 16:09:29,758 [epoch 50, batch   300] average loss: 1.165025 learning rate=0.000000010\n",
      "2025-07-03 16:09:30,279 [epoch 50, batch   400] average loss: 1.210715 learning rate=0.000000010\n"
     ]
    },
    {
     "name": "stdout",
     "output_type": "stream",
     "text": [
      "Training completed\n"
     ]
    },
    {
     "name": "stderr",
     "output_type": "stream",
     "text": [
      "2025-07-03 16:09:31,394 Compute the empirical error rate requires 1.0955 seconds\n"
     ]
    }
   ],
   "source": [
    "claimed_epsilon_list = np.array([0.01])\n",
    "d = 10\n",
    "kwargs['dataset_settings']['database_0'] = [0]*d\n",
    "kwargs['dataset_settings']['database_1'] = [np.sqrt(1.0/d)]*d\n",
    "\n",
    "estimated_delta_list = []\n",
    "\n",
    "for claimed_epsilon in claimed_epsilon_list:\n",
    "    kwargs['dataset_settings']['claimed_epsilon'] = claimed_epsilon\n",
    "    estimator = GaussianEstimator(kwargs)\n",
    "    classifier_args = {\"n_epoch\": 50, \"batch_size\": 500, \"lr\": 0.0001, \"n_batches\": 100, \"model\": None, \"use_gpu\": True}\n",
    "    estimator.build(classifier=\"NeuralNetwork\", classifier_args=classifier_args)\n",
    "    logging.info(estimator.output_)\n",
    "    estimated_delta_list.append(estimator.output_['estimated_delta'])"
   ]
  },
  {
   "cell_type": "code",
   "execution_count": 14,
   "id": "9682269f",
   "metadata": {},
   "outputs": [
    {
     "name": "stdout",
     "output_type": "stream",
     "text": [
      "[0.07768296]\n",
      "[0.06708938427638422]\n"
     ]
    }
   ],
   "source": [
    "from scipy import special\n",
    "sensitivity = 1\n",
    "epsilon1 = 1\n",
    "delta1 = 0.00001\n",
    "gaussian_scale = 2*np.log(1.25/delta1)*np.power(sensitivity, 2)/np.power(epsilon1, 2)\n",
    "x_star = 0.5*(1-2*gaussian_scale*claimed_epsilon_list)\n",
    "test = 0.5*(1 + special.erf(x_star/(np.sqrt(2*gaussian_scale))) - np.exp(claimed_epsilon_list)*(1 + special.erf((x_star-1)/(np.sqrt(2*gaussian_scale)))))\n",
    "\n",
    "print(test)\n",
    "print(estimated_delta_list)"
   ]
  },
  {
   "cell_type": "code",
   "execution_count": 8,
   "id": "f775a050",
   "metadata": {},
   "outputs": [
    {
     "name": "stdout",
     "output_type": "stream",
     "text": [
      "[0.07768296]\n",
      "[0.06807923344012667]\n"
     ]
    }
   ],
   "source": [
    "from scipy import special\n",
    "sensitivity = 1\n",
    "epsilon1 = 1\n",
    "delta1 = 0.00001\n",
    "gaussian_scale = 2*np.log(1.25/delta1)*np.power(sensitivity, 2)/np.power(epsilon1, 2)\n",
    "x_star = 0.5*(1-2*gaussian_scale*claimed_epsilon_list)\n",
    "test = 0.5*(1 + special.erf(x_star/(np.sqrt(2*gaussian_scale))) - np.exp(claimed_epsilon_list)*(1 + special.erf((x_star-1)/(np.sqrt(2*gaussian_scale)))))\n",
    "\n",
    "print(test)\n",
    "print(estimated_delta_list)"
   ]
  },
  {
   "cell_type": "code",
   "execution_count": 5,
   "id": "30f3ed3e-44d5-4fa1-83c6-63a49214a599",
   "metadata": {},
   "outputs": [
    {
     "data": {
      "image/png": "[encoded data removed]",
      "text/plain": [
       "<Figure size 640x480 with 1 Axes>"
      ]
     },
     "metadata": {},
     "output_type": "display_data"
    }
   ],
   "source": [
    "figfile_path = os.path.join(fig_dir, 'Laplace_kd.png')\n",
    "\n",
    "plt.title(r'$\\mathcal{M}_{L, \\epsilon=1}, d=50$')\n",
    "plt.xlabel(r\"$\\epsilon \\in (0, 1)$\")\n",
    "plt.ylabel(\"optimal delta\")\n",
    "\n",
    "plt.plot(claimed_epsilon_list, estimated_delta_list , linestyle='-', marker='.', color =\"red\", label=r\"Estimated $\\delta$\")\n",
    "plt.legend(loc='upper right')\n",
    "plt.savefig(figfile_path, bbox_inches = 'tight', dpi = 150);\n",
    "plt.show()"
   ]
  },
  {
   "cell_type": "code",
   "execution_count": 1,
   "id": "8db5d294-3f39-4b7a-9a15-eb9511df6887",
   "metadata": {},
   "outputs": [
    {
     "name": "stdout",
     "output_type": "stream",
     "text": [
      "GPU is available!\n",
      "Number of GPUs: 1\n",
      "Current GPU: 0\n",
      "GPU Name: Tesla T4\n"
     ]
    }
   ],
   "source": [
    "import torch\n",
    "\n",
    "if torch.cuda.is_available():\n",
    "    print(\"GPU is available!\")\n",
    "    print(\"Number of GPUs:\", torch.cuda.device_count())\n",
    "    print(\"Current GPU:\", torch.cuda.current_device())\n",
    "    print(\"GPU Name:\", torch.cuda.get_device_name(torch.cuda.current_device()))\n",
    "else:\n",
    "    print(\"GPU is NOT available.\")"
   ]
  },
  {
   "cell_type": "code",
   "execution_count": 2,
   "id": "aee0a9c4",
   "metadata": {},
   "outputs": [
    {
     "data": {
      "text/plain": [
       "True"
      ]
     },
     "execution_count": 2,
     "metadata": {},
     "output_type": "execute_result"
    }
   ],
   "source": [
    "torch.cuda.is_available()"
   ]
  }
 ],
 "metadata": {
  "kernelspec": {
   "display_name": "pytorch",
   "language": "python",
   "name": "python3"
  },
  "language_info": {
   "codemirror_mode": {
    "name": "ipython",
    "version": 3
   },
   "file_extension": ".py",
   "mimetype": "text/x-python",
   "name": "python",
   "nbconvert_exporter": "python",
   "pygments_lexer": "ipython3",
   "version": "3.12.10"
  }
 },
 "nbformat": 4,
 "nbformat_minor": 5
}
