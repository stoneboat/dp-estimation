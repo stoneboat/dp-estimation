{
 "cells": [
  {
   "cell_type": "code",
   "execution_count": 1,
   "id": "62ce65b3-174c-48de-8ef7-05c84b6ae11d",
   "metadata": {},
   "outputs": [],
   "source": [
    "import numpy as np\n",
    "from scipy.special import erf\n",
    "import os\n",
    "import sys\n",
    "import time\n",
    "import copy\n",
    "import logging\n",
    "import matplotlib.pyplot as plt\n",
    "\n",
    "# Navigate to the parent directory of the project structure\n",
    "project_dir = os.path.abspath(os.path.join(os.getcwd(), '..'))\n",
    "src_dir = os.path.join(project_dir, 'src')\n",
    "log_dir = os.path.join(project_dir, 'log')\n",
    "fig_dir = os.path.join(project_dir, 'fig')\n",
    "\n",
    "os.makedirs(log_dir, exist_ok=True)\n",
    "os.makedirs(fig_dir, exist_ok=True)\n",
    "\n",
    "# Add the src directory to sys.path\n",
    "sys.path.append(src_dir)\n",
    "\n",
    "from estimator.Gaussian import GaussianEstimator\n",
    "from analysis.commons import batch_estimator_estimated_delta, compute_bootstrap_range\n",
    "from utils.constants import WORKERS"
   ]
  },
  {
   "cell_type": "code",
   "execution_count": 2,
   "id": "2bbe5a75-b2ec-43cf-bfb1-449dd8f212ab",
   "metadata": {},
   "outputs": [],
   "source": [
    "def generate_default_configuration():\n",
    "    epsilon = 1\n",
    "    claimed_epsilon = 1\n",
    "    gamma = 0.01\n",
    "\n",
    "    dataset_settings = {\n",
    "        'database_0': [0],\n",
    "        'database_1': [1],\n",
    "        'sensitivity': 1.,\n",
    "        'epsilon': epsilon,\n",
    "        'claimed_epsilon': claimed_epsilon,\n",
    "        'delta': 0.00001\n",
    "    }\n",
    "\n",
    "    kwargs = {\n",
    "        'dataset_settings': dataset_settings, \n",
    "        'gamma': gamma,\n",
    "        'training_set_size': 10**5, 'validation_set_size': 10**6\n",
    "    }\n",
    "    return kwargs\n",
    "\n",
    "def store_array_str(data_array):\n",
    "    converted_str = np.array_str(data_array)\n",
    "    converted_str = converted_str.replace(' ',',')\n",
    "    return converted_str"
   ]
  },
  {
   "cell_type": "code",
   "execution_count": 3,
   "id": "0f17ee28-17f1-48cc-aa35-bb0dcdfa5988",
   "metadata": {},
   "outputs": [
    {
     "name": "stderr",
     "output_type": "stream",
     "text": [
      "2025-07-04 15:10:45,161 Initialize the experimental settings\n"
     ]
    }
   ],
   "source": [
    "logfile_path = os.path.join(log_dir, 'NN-EllipticalGaussian.log')\n",
    "\n",
    "logging.basicConfig(\n",
    "        level=logging.INFO,\n",
    "        format=\"%(asctime)s %(message)s\",\n",
    "        handlers=[\n",
    "            logging.FileHandler(logfile_path),\n",
    "            logging.StreamHandler()\n",
    "        ]\n",
    "    )\n",
    "\n",
    "logging.info('Initialize the experimental settings')\n",
    "kwargs = generate_default_configuration()"
   ]
  },
  {
   "cell_type": "code",
   "execution_count": 4,
   "id": "34850b23-5627-4522-84c0-86d9aca45cc1",
   "metadata": {},
   "outputs": [
    {
     "name": "stderr",
     "output_type": "stream",
     "text": [
      "2025-07-04 15:10:45,168 Generate samples\n",
      "2025-07-04 15:10:45,230 Train NeuralNetwork classifier\n",
      "Epoch 50/50 | Batch 200/200 | Avg Loss: 1.173422 | LR: 0.000001000: 100%|██████████| 10000/10000 [02:52<00:00, 57.98it/s]\n"
     ]
    },
    {
     "name": "stdout",
     "output_type": "stream",
     "text": [
      "Training completed\n"
     ]
    },
    {
     "name": "stderr",
     "output_type": "stream",
     "text": [
      "2025-07-04 15:13:44,649 Compute the empirical error rate requires 5.5704 seconds\n"
     ]
    }
   ],
   "source": [
    "claimed_epsilon_list = np.array([0.01])\n",
    "d = 1\n",
    "kwargs['dataset_settings']['database_0'] = [0]*d\n",
    "kwargs['dataset_settings']['database_1'] = [1] + [0]*(d-1)\n",
    "\n",
    "estimated_delta_list = []\n",
    "\n",
    "for claimed_epsilon in claimed_epsilon_list:\n",
    "    kwargs['dataset_settings']['claimed_epsilon'] = claimed_epsilon\n",
    "    estimator = GaussianEstimator(kwargs)\n",
    "    classifier_args = {\"n_epoch\": 10, \"batch_size\": 500, \"lr\": 0.01, \"n_batches\": 100, \"model\": None, \"use_gpu\": True, \"model_type\": \"demo\"}\n",
    "    estimator.build(classifier=\"NeuralNetwork\", classifier_args=classifier_args)\n",
    "    logging.info(estimator.output_)\n",
    "    estimated_delta_list.append(estimator.output_['estimated_delta'])"
   ]
  },
  {
   "cell_type": "code",
   "execution_count": 5,
   "id": "3a8bc1ab",
   "metadata": {},
   "outputs": [
    {
     "data": {
      "text/plain": [
       "{'estimated_delta': 0.06417235939384514,\n",
       " 'accuracy': 0.536742,\n",
       " 'estimated_range': (0, 0.5803052036711197),\n",
       " 'gamma': 0.01,\n",
       " 'training_set_size': 100000,\n",
       " 'validation_set_size': 1000000}"
      ]
     },
     "execution_count": 5,
     "metadata": {},
     "output_type": "execute_result"
    }
   ],
   "source": [
    "estimator.output_"
   ]
  },
  {
   "cell_type": "code",
   "execution_count": 6,
   "id": "9682269f",
   "metadata": {},
   "outputs": [
    {
     "name": "stdout",
     "output_type": "stream",
     "text": [
      "[0.07768296]\n",
      "[0.06417235939384514]\n"
     ]
    }
   ],
   "source": [
    "from scipy import special\n",
    "sensitivity = 1\n",
    "epsilon1 = 1\n",
    "delta1 = 0.00001\n",
    "gaussian_scale = 2*np.log(1.25/delta1)*np.power(sensitivity, 2)/np.power(epsilon1, 2)\n",
    "x_star = 0.5*(1-2*gaussian_scale*claimed_epsilon_list)\n",
    "test = 0.5*(1 + special.erf(x_star/(np.sqrt(2*gaussian_scale))) - np.exp(claimed_epsilon_list)*(1 + special.erf((x_star-1)/(np.sqrt(2*gaussian_scale)))))\n",
    "\n",
    "print(test)\n",
    "print(estimated_delta_list)"
   ]
  },
  {
   "cell_type": "code",
   "execution_count": 7,
   "id": "f775a050",
   "metadata": {},
   "outputs": [
    {
     "name": "stdout",
     "output_type": "stream",
     "text": [
      "[0.07768296]\n",
      "[0.06417235939384514]\n"
     ]
    }
   ],
   "source": [
    "from scipy import special\n",
    "sensitivity = 1\n",
    "epsilon1 = 1\n",
    "delta1 = 0.00001\n",
    "gaussian_scale = 2*np.log(1.25/delta1)*np.power(sensitivity, 2)/np.power(epsilon1, 2)\n",
    "x_star = 0.5*(1-2*gaussian_scale*claimed_epsilon_list)\n",
    "test = 0.5*(1 + special.erf(x_star/(np.sqrt(2*gaussian_scale))) - np.exp(claimed_epsilon_list)*(1 + special.erf((x_star-1)/(np.sqrt(2*gaussian_scale)))))\n",
    "\n",
    "print(test)\n",
    "print(estimated_delta_list)"
   ]
  },
  {
   "cell_type": "code",
   "execution_count": 8,
   "id": "30f3ed3e-44d5-4fa1-83c6-63a49214a599",
   "metadata": {},
   "outputs": [
    {
     "data": {
      "image/png": "[encoded data removed]",
      "text/plain": [
       "<Figure size 640x480 with 1 Axes>"
      ]
     },
     "metadata": {},
     "output_type": "display_data"
    }
   ],
   "source": [
    "figfile_path = os.path.join(fig_dir, 'Laplace_kd.png')\n",
    "\n",
    "plt.title(r'$\\mathcal{M}_{L, \\epsilon=1}, d=50$')\n",
    "plt.xlabel(r\"$\\epsilon \\in (0, 1)$\")\n",
    "plt.ylabel(\"optimal delta\")\n",
    "\n",
    "plt.plot(claimed_epsilon_list, estimated_delta_list , linestyle='-', marker='.', color =\"red\", label=r\"Estimated $\\delta$\")\n",
    "plt.legend(loc='upper right')\n",
    "plt.savefig(figfile_path, bbox_inches = 'tight', dpi = 150);\n",
    "plt.show()"
   ]
  }
 ],
 "metadata": {
  "kernelspec": {
   "display_name": "pytorch",
   "language": "python",
   "name": "python3"
  },
  "language_info": {
   "codemirror_mode": {
    "name": "ipython",
    "version": 3
   },
   "file_extension": ".py",
   "mimetype": "text/x-python",
   "name": "python",
   "nbconvert_exporter": "python",
   "pygments_lexer": "ipython3",
   "version": "3.12.10"
  }
 },
 "nbformat": 4,
 "nbformat_minor": 5
}
