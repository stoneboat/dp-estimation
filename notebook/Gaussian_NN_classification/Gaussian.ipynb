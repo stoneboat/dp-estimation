{
 "cells": [
  {
   "cell_type": "code",
   "execution_count": 1,
   "id": "92dada85",
   "metadata": {},
   "outputs": [],
   "source": [
    "import numpy as np\n",
    "from scipy.special import erf\n",
    "import os\n",
    "import sys\n",
    "import time\n",
    "import copy\n",
    "import logging\n",
    "import matplotlib.pyplot as plt\n",
    "\n",
    "# Navigate to the parent directory of the project structure\n",
    "project_dir = os.path.abspath(os.path.join(os.getcwd(), '../../'))\n",
    "src_dir = os.path.join(project_dir, 'src')\n",
    "log_dir = os.path.join(project_dir, 'log')\n",
    "fig_dir = os.path.join(project_dir, 'fig')\n",
    "\n",
    "os.makedirs(log_dir, exist_ok=True)\n",
    "os.makedirs(fig_dir, exist_ok=True)\n",
    "\n",
    "# Add the src directory to sys.path\n",
    "sys.path.append(src_dir)\n",
    "\n",
    "from analysis.multivariate_gaussian_privacy import compute_gaussian_mechanism_privacy_over_query, standard_gaussian_BOC\n",
    "from analysis.multivariate_gaussian_privacy import generate_sparse_linear_classifier_for_standard_gaussian_robust\n",
    "from analysis.multivariate_gaussian_privacy import generate_sparse_linear_classifier_for_standard_gaussian\n",
    "from mech.GaussianMechanism import GaussianSampleGenerator\n",
    "from classifier.kNN import stack_samples\n",
    "from utils.commons import accuracy_to_delta\n"
   ]
  },
  {
   "cell_type": "code",
   "execution_count": 2,
   "id": "b76329c1",
   "metadata": {},
   "outputs": [
    {
     "data": {
      "text/plain": [
       "0.08219839698441395"
      ]
     },
     "execution_count": 2,
     "metadata": {},
     "output_type": "execute_result"
    }
   ],
   "source": [
    "dim = 50\n",
    "query1 = np.zeros(dim)\n",
    "query2 = np.zeros(dim)\n",
    "query2[0] = 1\n",
    "delta1 = 0.00001\n",
    "sensitivity = np.linalg.norm(query2 - query1, ord=2)\n",
    "epsilon = 1.0\n",
    "\n",
    "gaussian_scale = 2*np.log(1.25/delta1)*np.power(sensitivity, 2)/np.power(epsilon, 2)    \n",
    "sigma = np.sqrt(gaussian_scale)\n",
    "\n",
    "claimed_epsilon = 0\n",
    "compute_gaussian_mechanism_privacy_over_query(claimed_epsilon, sigma, query1, query2)\n"
   ]
  },
  {
   "cell_type": "code",
   "execution_count": 3,
   "id": "635bbd38",
   "metadata": {},
   "outputs": [],
   "source": [
    "def generate_default_configuration():\n",
    "    epsilon = 1\n",
    "    claimed_epsilon = 0\n",
    "    gamma = 0.01\n",
    "\n",
    "    dataset_settings = {\n",
    "        'database_0': query1.tolist(),\n",
    "        'database_1': query2.tolist(),\n",
    "        'sensitivity': 1.,\n",
    "        'epsilon': epsilon,\n",
    "        'claimed_epsilon': claimed_epsilon,\n",
    "        'delta': 0.00001\n",
    "    }\n",
    "\n",
    "    kwargs = {\n",
    "        'dataset_settings': dataset_settings, \n",
    "        'gamma': gamma,\n",
    "        'training_set_size': 10**6, 'validation_set_size': 10**6\n",
    "    }\n",
    "    return kwargs\n",
    "\n",
    "kwargs = generate_default_configuration()\n",
    "sample_generator = GaussianSampleGenerator(kwargs)\n",
    "\n",
    "num_positive_samples = 1000000\n",
    "num_negative_samples = 1000000\n",
    "\n",
    "positive_samples = sample_generator.gen_samples(num_positive_samples, generate_positive_sample=True)\n",
    "negative_samples = sample_generator.gen_samples(num_negative_samples, generate_positive_sample=False)\n",
    "samples = stack_samples(positive_samples=positive_samples, negative_samples=negative_samples)"
   ]
  },
  {
   "cell_type": "code",
   "execution_count": 4,
   "id": "73c565ef",
   "metadata": {},
   "outputs": [
    {
     "name": "stdout",
     "output_type": "stream",
     "text": [
      "0.081793\n"
     ]
    }
   ],
   "source": [
    "X = samples['X']\n",
    "y = samples['y']\n",
    "\n",
    "error = 0\n",
    "\n",
    "for i in range(len(y)):\n",
    "    error += np.abs(standard_gaussian_BOC(X[i], query1, query2) - y[i])\n",
    "\n",
    "accuracy = 1 - error / len(y)\n",
    "\n",
    "delta = accuracy_to_delta(accuracy, 0)\n",
    "\n",
    "print(delta)"
   ]
  },
  {
   "cell_type": "code",
   "execution_count": 5,
   "id": "1ac115e0",
   "metadata": {},
   "outputs": [],
   "source": [
    "training_positive_samples = sample_generator.gen_samples(num_positive_samples, generate_positive_sample=True)\n",
    "training_negative_samples = sample_generator.gen_samples(num_negative_samples, generate_positive_sample=False)\n",
    "training_samples = stack_samples(positive_samples=training_positive_samples, negative_samples=training_negative_samples)\n"
   ]
  },
  {
   "cell_type": "code",
   "execution_count": 6,
   "id": "bf734aa9",
   "metadata": {},
   "outputs": [
    {
     "name": "stdout",
     "output_type": "stream",
     "text": [
      "0.08290599999999992\n"
     ]
    }
   ],
   "source": [
    "sparse_linear_classifier = generate_sparse_linear_classifier_for_standard_gaussian_robust(training_samples)\n",
    "\n",
    "X = training_samples['X']\n",
    "y = training_samples['y']\n",
    "\n",
    "error = 0\n",
    "\n",
    "for i in range(len(y)):\n",
    "    error += np.abs(sparse_linear_classifier(X[i]) - y[i])\n",
    "\n",
    "accuracy = 1 - error / len(y)\n",
    "\n",
    "delta = accuracy_to_delta(accuracy, 0)\n",
    "\n",
    "print(delta)"
   ]
  }
 ],
 "metadata": {
  "kernelspec": {
   "display_name": "pytorch",
   "language": "python",
   "name": "python3"
  },
  "language_info": {
   "codemirror_mode": {
    "name": "ipython",
    "version": 3
   },
   "file_extension": ".py",
   "mimetype": "text/x-python",
   "name": "python",
   "nbconvert_exporter": "python",
   "pygments_lexer": "ipython3",
   "version": "3.12.10"
  }
 },
 "nbformat": 4,
 "nbformat_minor": 5
}
