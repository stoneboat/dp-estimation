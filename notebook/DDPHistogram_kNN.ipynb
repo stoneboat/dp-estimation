{
 "cells": [
  {
   "cell_type": "code",
   "execution_count": 1,
   "id": "62ce65b3-174c-48de-8ef7-05c84b6ae11d",
   "metadata": {},
   "outputs": [],
   "source": [
    "import numpy as np\n",
    "from scipy.special import erf\n",
    "import os\n",
    "import sys\n",
    "import time\n",
    "import copy\n",
    "import logging\n",
    "import matplotlib.pyplot as plt\n",
    "\n",
    "# Navigate to the parent directory of the project structure\n",
    "project_dir = os.path.abspath(os.path.join(os.getcwd(), '..'))\n",
    "src_dir = os.path.join(project_dir, 'src')\n",
    "log_dir = os.path.join(project_dir, 'log')\n",
    "fig_dir = os.path.join(project_dir, 'fig')\n",
    "\n",
    "# Add the src directory to sys.path\n",
    "sys.path.append(src_dir)\n",
    "\n",
    "from estimator.DDPHistogram import DDPHistogramEstimator, compute_theoretical_delta\n",
    "from analysis.commons import batch_estimator_estimated_delta, compute_bootstrap_range\n",
    "from utils.constants import WORKERS"
   ]
  },
  {
   "cell_type": "code",
   "execution_count": 2,
   "id": "2bbe5a75-b2ec-43cf-bfb1-449dd8f212ab",
   "metadata": {},
   "outputs": [],
   "source": [
    "def generate_default_configuration():\n",
    "    epsilon = 1\n",
    "    claimed_epsilon = 0\n",
    "    gamma = 0.01\n",
    "\n",
    "    dataset_settings = {\n",
    "        'voter_number': 100,\n",
    "        'bins_size': 2,\n",
    "        'database_0': 0,\n",
    "        'database_1': 1,\n",
    "        'claimed_epsilon': claimed_epsilon,\n",
    "    }\n",
    "\n",
    "\n",
    "    kwargs = {\n",
    "        'dataset_settings': dataset_settings, 'random_seed': int(time.time()),\n",
    "        'gamma': gamma,\n",
    "        'training_set_size': 10**7, 'validation_set_size': 10**7\n",
    "    }\n",
    "    return kwargs\n",
    "\n",
    "def store_array_str(data_array):\n",
    "    converted_str = np.array_str(data_array)\n",
    "    converted_str = converted_str.replace(' ',',')\n",
    "    return converted_str"
   ]
  },
  {
   "cell_type": "code",
   "execution_count": 3,
   "id": "0f17ee28-17f1-48cc-aa35-bb0dcdfa5988",
   "metadata": {},
   "outputs": [],
   "source": [
    "logfile_path = os.path.join(log_dir, 'kNN-DDPHistogram-default.log')\n",
    "\n",
    "logging.basicConfig(\n",
    "        level=logging.CRITICAL,\n",
    "        format=\"%(asctime)s %(message)s\",\n",
    "        handlers=[\n",
    "            logging.FileHandler(logfile_path),\n",
    "            logging.StreamHandler()\n",
    "        ]\n",
    "    )\n",
    "\n",
    "logging.info('Initialize the experimental settings')\n",
    "kwargs = generate_default_configuration()"
   ]
  },
  {
   "cell_type": "code",
   "execution_count": 4,
   "id": "4f009c7a-64e5-4cbe-8d9b-17a35992ca1c",
   "metadata": {},
   "outputs": [
    {
     "name": "stderr",
     "output_type": "stream",
     "text": [
      "2024-12-08 19:20:22,921 Compute the empirical error rate requires 252.7104 seconds\n",
      "2024-12-08 19:20:23,004 Compute the empirical error rate requires 253.9203 seconds\n",
      "2024-12-08 19:20:23,410 Compute the empirical error rate requires 255.2019 seconds\n",
      "2024-12-08 19:20:24,052 Compute the empirical error rate requires 255.7562 seconds\n",
      "2024-12-08 19:20:24,210 Compute the empirical error rate requires 255.7894 seconds\n",
      "2024-12-08 19:20:24,530 Compute the empirical error rate requires 254.3956 seconds\n",
      "2024-12-08 19:20:25,008 Compute the empirical error rate requires 256.0558 seconds\n",
      "2024-12-08 19:20:25,355 Compute the empirical error rate requires 255.0496 seconds\n",
      "2024-12-08 19:20:27,282 Compute the empirical error rate requires 258.2552 seconds\n",
      "2024-12-08 19:20:27,664 Compute the empirical error rate requires 259.5106 seconds\n",
      "2024-12-08 19:20:27,710 Compute the empirical error rate requires 259.6734 seconds\n",
      "2024-12-08 19:20:28,482 Compute the empirical error rate requires 258.4307 seconds\n",
      "2024-12-08 19:20:28,630 Compute the empirical error rate requires 259.4240 seconds\n",
      "2024-12-08 19:20:29,270 Compute the empirical error rate requires 259.1080 seconds\n",
      "2024-12-08 19:20:30,084 Compute the empirical error rate requires 259.9631 seconds\n",
      "2024-12-08 19:20:30,152 Compute the empirical error rate requires 260.4772 seconds\n",
      "2024-12-08 19:20:31,532 Compute the empirical error rate requires 261.9090 seconds\n",
      "2024-12-08 19:20:31,706 Compute the empirical error rate requires 263.8282 seconds\n",
      "2024-12-08 19:20:32,240 Compute the empirical error rate requires 262.5328 seconds\n",
      "2024-12-08 19:20:32,818 Compute the empirical error rate requires 262.3602 seconds\n",
      "2024-12-08 19:20:32,932 Compute the empirical error rate requires 262.8116 seconds\n",
      "2024-12-08 19:20:33,025 Compute the empirical error rate requires 262.9216 seconds\n",
      "2024-12-08 19:20:35,074 Compute the empirical error rate requires 265.0169 seconds\n",
      "2024-12-08 19:20:35,294 Compute the empirical error rate requires 265.7413 seconds\n",
      "2024-12-08 19:20:35,578 Compute the empirical error rate requires 264.9280 seconds\n",
      "2024-12-08 19:20:35,664 Compute the empirical error rate requires 265.4952 seconds\n",
      "2024-12-08 19:20:36,162 Compute the empirical error rate requires 266.0567 seconds\n",
      "2024-12-08 19:20:36,512 Compute the empirical error rate requires 267.2062 seconds\n",
      "2024-12-08 19:20:36,776 Compute the empirical error rate requires 266.8913 seconds\n",
      "2024-12-08 19:20:37,077 Compute the empirical error rate requires 268.1632 seconds\n",
      "2024-12-08 19:20:37,247 Compute the empirical error rate requires 267.1953 seconds\n",
      "2024-12-08 19:20:37,826 Compute the empirical error rate requires 268.5321 seconds\n",
      "2024-12-08 19:20:37,863 Compute the empirical error rate requires 267.7189 seconds\n",
      "2024-12-08 19:20:38,315 Compute the empirical error rate requires 270.0989 seconds\n",
      "2024-12-08 19:20:39,033 Compute the empirical error rate requires 268.7504 seconds\n",
      "2024-12-08 19:20:39,530 Compute the empirical error rate requires 270.2785 seconds\n",
      "2024-12-08 19:20:40,117 Compute the empirical error rate requires 269.8233 seconds\n",
      "2024-12-08 19:20:40,306 Compute the empirical error rate requires 271.1412 seconds\n",
      "2024-12-08 19:20:40,350 Compute the empirical error rate requires 270.5802 seconds\n",
      "2024-12-08 19:20:40,722 Compute the empirical error rate requires 270.8584 seconds\n",
      "2024-12-08 19:20:40,734 Compute the empirical error rate requires 271.1574 seconds\n",
      "2024-12-08 19:20:41,708 Compute the empirical error rate requires 271.7991 seconds\n",
      "2024-12-08 19:20:42,386 Compute the empirical error rate requires 273.9267 seconds\n",
      "2024-12-08 19:20:42,705 Compute the empirical error rate requires 272.9818 seconds\n",
      "2024-12-08 19:20:42,851 Compute the empirical error rate requires 273.6626 seconds\n",
      "2024-12-08 19:20:43,321 Compute the empirical error rate requires 273.4328 seconds\n",
      "2024-12-08 19:20:43,412 Compute the empirical error rate requires 273.1341 seconds\n",
      "2024-12-08 19:20:44,064 Compute the empirical error rate requires 274.1505 seconds\n",
      "2024-12-08 19:20:44,137 Compute the empirical error rate requires 274.0982 seconds\n",
      "2024-12-08 19:20:44,346 Compute the empirical error rate requires 274.4179 seconds\n",
      "2024-12-08 19:20:45,596 Compute the empirical error rate requires 275.3965 seconds\n",
      "2024-12-08 19:20:46,258 Compute the empirical error rate requires 275.9304 seconds\n",
      "2024-12-08 19:20:46,453 Compute the empirical error rate requires 276.3956 seconds\n",
      "2024-12-08 19:20:47,229 Compute the empirical error rate requires 278.2445 seconds\n",
      "2024-12-08 19:20:47,519 Compute the empirical error rate requires 277.3819 seconds\n",
      "2024-12-08 19:20:47,522 Compute the empirical error rate requires 277.2547 seconds\n",
      "2024-12-08 19:20:49,839 Compute the empirical error rate requires 279.2745 seconds\n",
      "2024-12-08 19:20:50,368 Compute the empirical error rate requires 280.2949 seconds\n"
     ]
    }
   ],
   "source": [
    "voter_number_list = np.hstack((np.arange(100, 1000, 100),np.arange(1000, 50000, 1000)))\n",
    "\n",
    "input_list = []\n",
    "for voter_number in voter_number_list:\n",
    "    kwargs['dataset_settings']['voter_number'] = int(voter_number)\n",
    "    input_ = copy.deepcopy({'estimator_cls': DDPHistogramEstimator, 'config': kwargs})\n",
    "    input_list.append(input_)\n",
    "\n",
    "estimated_delta = batch_estimator_estimated_delta(kwargs_lists=input_list, workers=voter_number_list.shape[0])"
   ]
  },
  {
   "cell_type": "code",
   "execution_count": 5,
   "id": "34850b23-5627-4522-84c0-86d9aca45cc1",
   "metadata": {},
   "outputs": [],
   "source": [
    "theoretical_delta = []\n",
    "for voter_number in voter_number_list:\n",
    "    delta = compute_theoretical_delta(n_voters=voter_number, claimed_epsilon=0, n_bins=2)\n",
    "    theoretical_delta.append(delta)"
   ]
  },
  {
   "cell_type": "code",
   "execution_count": 6,
   "id": "35fde0a1-cdd8-4a5b-aab6-fbdb89c1df61",
   "metadata": {},
   "outputs": [
    {
     "data": {
      "image/png": "[encoded data removed]",
      "text/plain": [
       "<Figure size 432x288 with 1 Axes>"
      ]
     },
     "metadata": {
      "needs_background": "light"
     },
     "output_type": "display_data"
    }
   ],
   "source": [
    "figfile_path = os.path.join(fig_dir, 'DDPHistogram.png')\n",
    "\n",
    "voter_number_list = np.hstack((np.arange(100, 1000, 100),np.arange(1000, 50000, 1000)))\n",
    "plt.title(r'DDP histogram over varied number of database rows')\n",
    "plt.xlabel(r\"#rows$ \\in (100, 50000)$\")\n",
    "plt.ylabel(\"optimal delta\")\n",
    "plt.grid()\n",
    "\n",
    "plt.plot(voter_number_list, estimated_delta, \".\", color =\"red\", label=r\"estimated $\\delta$\")\n",
    "plt.plot(voter_number_list, theoretical_delta , color =\"blue\", label=r\"analytically computed $\\delta$\")\n",
    "\n",
    "plt.legend(loc='upper right')\n",
    "plt.savefig(figfile_path, bbox_inches = 'tight', dpi = 150);\n",
    "plt.show()"
   ]
  }
 ],
 "metadata": {
  "kernelspec": {
   "display_name": "Python 3.8 - Learning [learning/conda-2020.11-py38-cpu]",
   "language": "python",
   "name": "sys_learning38"
  },
  "language_info": {
   "codemirror_mode": {
    "name": "ipython",
    "version": 3
   },
   "file_extension": ".py",
   "mimetype": "text/x-python",
   "name": "python",
   "nbconvert_exporter": "python",
   "pygments_lexer": "ipython3",
   "version": "3.8.5"
  }
 },
 "nbformat": 4,
 "nbformat_minor": 5
}
