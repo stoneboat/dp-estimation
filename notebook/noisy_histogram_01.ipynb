{
 "cells": [
  {
   "cell_type": "code",
   "execution_count": 1,
   "id": "62ce65b3-174c-48de-8ef7-05c84b6ae11d",
   "metadata": {},
   "outputs": [],
   "source": [
    "import numpy as np\n",
    "from scipy.special import erf\n",
    "import os\n",
    "import sys\n",
    "import time\n",
    "import copy\n",
    "import logging\n",
    "import matplotlib.pyplot as plt\n",
    "\n",
    "# Navigate to the parent directory of the project structure\n",
    "project_dir = os.path.abspath(os.path.join(os.getcwd(), '..'))\n",
    "src_dir = os.path.join(project_dir, 'src')\n",
    "log_dir = os.path.join(project_dir, 'log')\n",
    "fig_dir = os.path.join(project_dir, 'fig')\n",
    "\n",
    "# Add the src directory to sys.path\n",
    "sys.path.append(src_dir)\n",
    "\n",
    "from estimator.Laplace import LaplaceEstimator\n",
    "from analysis.commons import batch_estimator_estimated_delta, compute_bootstrap_range\n",
    "from utils.constants import WORKERS"
   ]
  },
  {
   "cell_type": "code",
   "execution_count": 2,
   "id": "2bbe5a75-b2ec-43cf-bfb1-449dd8f212ab",
   "metadata": {},
   "outputs": [],
   "source": [
    "def generate_default_configuration():\n",
    "    epsilon = 0.1\n",
    "    claimed_epsilon = 1\n",
    "    gamma = 0.01\n",
    "\n",
    "    dataset_settings = {\n",
    "        'database_0': [0],\n",
    "        'database_1': [1],\n",
    "        'sensitivity': 1.,\n",
    "        'epsilon': epsilon,\n",
    "        'claimed_epsilon': claimed_epsilon,\n",
    "        'delta': 0\n",
    "    }\n",
    "\n",
    "    kwargs = {\n",
    "        'dataset_settings': dataset_settings, \n",
    "        'gamma': gamma,\n",
    "        'training_set_size': 10**7, 'validation_set_size': 10**7\n",
    "    }\n",
    "    return kwargs\n",
    "\n",
    "def store_array_str(data_array):\n",
    "    converted_str = np.array_str(data_array)\n",
    "    converted_str = converted_str.replace(' ',',')\n",
    "    return converted_str"
   ]
  },
  {
   "cell_type": "code",
   "execution_count": 3,
   "id": "0f17ee28-17f1-48cc-aa35-bb0dcdfa5988",
   "metadata": {},
   "outputs": [],
   "source": [
    "logfile_path = os.path.join(log_dir, 'kNN-noisy_histogram-default.log')\n",
    "\n",
    "logging.basicConfig(\n",
    "        level=logging.CRITICAL,\n",
    "        format=\"%(asctime)s %(message)s\",\n",
    "        handlers=[\n",
    "            logging.FileHandler(logfile_path),\n",
    "            logging.StreamHandler()\n",
    "        ]\n",
    "    )\n",
    "\n",
    "logging.info('Initialize the experimental settings')\n",
    "kwargs = generate_default_configuration()"
   ]
  },
  {
   "cell_type": "code",
   "execution_count": 4,
   "id": "34850b23-5627-4522-84c0-86d9aca45cc1",
   "metadata": {},
   "outputs": [
    {
     "name": "stderr",
     "output_type": "stream",
     "text": [
      "2024-12-08 20:45:58,683 Compute the empirical error rate requires 283.5810 seconds\n",
      "2024-12-08 20:45:59,399 Compute the empirical error rate requires 285.8591 seconds\n",
      "2024-12-08 20:45:59,426 Compute the empirical error rate requires 284.6932 seconds\n",
      "2024-12-08 20:45:59,621 Compute the empirical error rate requires 284.2944 seconds\n",
      "2024-12-08 20:46:00,041 Compute the empirical error rate requires 284.7070 seconds\n",
      "2024-12-08 20:46:00,393 Compute the empirical error rate requires 286.7089 seconds\n",
      "2024-12-08 20:46:00,568 Compute the empirical error rate requires 285.3442 seconds\n",
      "2024-12-08 20:46:00,592 Compute the empirical error rate requires 285.3111 seconds\n",
      "2024-12-08 20:46:00,597 Compute the empirical error rate requires 285.5451 seconds\n",
      "2024-12-08 20:46:00,890 Compute the empirical error rate requires 286.7853 seconds\n",
      "2024-12-08 20:46:01,740 Compute the empirical error rate requires 287.7616 seconds\n",
      "2024-12-08 20:46:02,300 Compute the empirical error rate requires 288.0807 seconds\n",
      "2024-12-08 20:46:02,781 Compute the empirical error rate requires 288.7068 seconds\n",
      "2024-12-08 20:46:03,178 Compute the empirical error rate requires 289.3930 seconds\n",
      "2024-12-08 20:46:03,722 Compute the empirical error rate requires 290.0371 seconds\n",
      "2024-12-08 20:46:04,555 Compute the empirical error rate requires 290.1852 seconds\n",
      "2024-12-08 20:46:04,605 Compute the empirical error rate requires 290.3426 seconds\n",
      "2024-12-08 20:46:05,302 Compute the empirical error rate requires 289.8312 seconds\n",
      "2024-12-08 20:46:07,837 Compute the empirical error rate requires 292.4782 seconds\n",
      "2024-12-08 20:46:07,867 Compute the empirical error rate requires 292.0173 seconds\n",
      "2024-12-08 20:46:08,322 Compute the empirical error rate requires 292.9052 seconds\n",
      "2024-12-08 20:46:08,975 Compute the empirical error rate requires 294.3682 seconds\n",
      "2024-12-08 20:46:09,169 Compute the empirical error rate requires 292.8451 seconds\n",
      "2024-12-08 20:46:10,157 Compute the empirical error rate requires 294.9938 seconds\n",
      "2024-12-08 20:46:10,562 Compute the empirical error rate requires 294.4558 seconds\n",
      "2024-12-08 20:46:10,950 Compute the empirical error rate requires 295.9108 seconds\n",
      "2024-12-08 20:46:11,180 Compute the empirical error rate requires 294.7061 seconds\n",
      "2024-12-08 20:46:11,721 Compute the empirical error rate requires 295.5916 seconds\n",
      "2024-12-08 20:46:14,397 Compute the empirical error rate requires 298.0520 seconds\n"
     ]
    }
   ],
   "source": [
    "claimed_epsilon_list = np.hstack((np.arange(0.01, 0.1, 0.01), np.arange(0.1, 10, 0.5)))\n",
    "input_list = []\n",
    "for claimed_epsilon in claimed_epsilon_list:\n",
    "    kwargs['dataset_settings']['claimed_epsilon'] = claimed_epsilon\n",
    "    input_ = copy.deepcopy({'estimator_cls': LaplaceEstimator, 'config': kwargs})\n",
    "    input_list.append(input_)\n",
    "\n",
    "estimated_delta = batch_estimator_estimated_delta(kwargs_lists=input_list, workers=60)"
   ]
  },
  {
   "cell_type": "code",
   "execution_count": 7,
   "id": "4c3b5c69-619f-41fc-bb36-291448c8f91f",
   "metadata": {},
   "outputs": [
    {
     "name": "stderr",
     "output_type": "stream",
     "text": [
      "2024-12-08 20:51:26,220 Compute the empirical error rate requires 286.5897 seconds\n",
      "2024-12-08 20:51:26,985 Compute the empirical error rate requires 287.8016 seconds\n",
      "2024-12-08 20:51:26,997 Compute the empirical error rate requires 287.6772 seconds\n",
      "2024-12-08 20:51:27,569 Compute the empirical error rate requires 287.9422 seconds\n",
      "2024-12-08 20:51:27,729 Compute the empirical error rate requires 288.4117 seconds\n",
      "2024-12-08 20:51:27,854 Compute the empirical error rate requires 287.0061 seconds\n",
      "2024-12-08 20:51:28,266 Compute the empirical error rate requires 288.6182 seconds\n",
      "2024-12-08 20:51:28,415 Compute the empirical error rate requires 288.7212 seconds\n",
      "2024-12-08 20:51:29,040 Compute the empirical error rate requires 288.6782 seconds\n",
      "2024-12-08 20:51:30,224 Compute the empirical error rate requires 290.0240 seconds\n",
      "2024-12-08 20:51:31,906 Compute the empirical error rate requires 292.1893 seconds\n",
      "2024-12-08 20:51:32,257 Compute the empirical error rate requires 292.9257 seconds\n",
      "2024-12-08 20:51:33,904 Compute the empirical error rate requires 292.7911 seconds\n",
      "2024-12-08 20:51:34,267 Compute the empirical error rate requires 293.4038 seconds\n",
      "2024-12-08 20:51:34,631 Compute the empirical error rate requires 293.8233 seconds\n",
      "2024-12-08 20:51:34,772 Compute the empirical error rate requires 293.4016 seconds\n",
      "2024-12-08 20:51:35,534 Compute the empirical error rate requires 295.3881 seconds\n",
      "2024-12-08 20:51:35,904 Compute the empirical error rate requires 294.9569 seconds\n",
      "2024-12-08 20:51:36,737 Compute the empirical error rate requires 296.4099 seconds\n",
      "2024-12-08 20:51:36,993 Compute the empirical error rate requires 297.0405 seconds\n",
      "2024-12-08 20:51:37,686 Compute the empirical error rate requires 297.4797 seconds\n",
      "2024-12-08 20:51:38,284 Compute the empirical error rate requires 297.9714 seconds\n",
      "2024-12-08 20:51:38,728 Compute the empirical error rate requires 298.5730 seconds\n",
      "2024-12-08 20:51:42,265 Compute the empirical error rate requires 301.8934 seconds\n",
      "2024-12-08 20:51:42,857 Compute the empirical error rate requires 301.6612 seconds\n",
      "2024-12-08 20:51:43,131 Compute the empirical error rate requires 301.1457 seconds\n",
      "2024-12-08 20:51:43,444 Compute the empirical error rate requires 301.8048 seconds\n",
      "2024-12-08 20:51:43,502 Compute the empirical error rate requires 301.4148 seconds\n",
      "2024-12-08 20:51:44,574 Compute the empirical error rate requires 302.9029 seconds\n"
     ]
    }
   ],
   "source": [
    "kwargs['dataset_settings']['epsilon'] = 10\n",
    "claimed_epsilon_list = np.hstack((np.arange(0.01, 0.1, 0.01), np.arange(0.1, 10, 0.5)))\n",
    "input_list = []\n",
    "for claimed_epsilon in claimed_epsilon_list:\n",
    "    kwargs['dataset_settings']['claimed_epsilon'] = claimed_epsilon\n",
    "    input_ = copy.deepcopy({'estimator_cls': LaplaceEstimator, 'config': kwargs})\n",
    "    input_list.append(input_)\n",
    "\n",
    "buggy_estimated_delta = batch_estimator_estimated_delta(kwargs_lists=input_list, workers=60)"
   ]
  },
  {
   "cell_type": "code",
   "execution_count": 8,
   "id": "9df8e4e7-c0fe-4f53-b0e1-592f70f69fdd",
   "metadata": {},
   "outputs": [
    {
     "data": {
      "image/png": "[encoded data removed]",
      "text/plain": [
       "<Figure size 432x288 with 1 Axes>"
      ]
     },
     "metadata": {
      "needs_background": "light"
     },
     "output_type": "display_data"
    }
   ],
   "source": [
    "figfile_path = os.path.join(fig_dir, 'Noisy_hist.png')\n",
    "claimed_epsilon_list = np.hstack((np.arange(0.01, 0.1, 0.01)))\n",
    "\n",
    "plt.title(r'DP spectrum for $NoisyHist$ with $\\epsilon=0.1$')\n",
    "plt.xlabel(r\"$\\epsilon \\in (0,0.1)$\")\n",
    "plt.ylabel(\"optimal delta\")\n",
    "plt.grid()\n",
    "\n",
    "plt.plot(claimed_epsilon_list, estimated_delta[:claimed_epsilon_list.shape[0]] , color =\"blue\", label=r\"correct version\")\n",
    "plt.plot(claimed_epsilon_list, buggy_estimated_delta[:claimed_epsilon_list.shape[0]] , color =\"red\", label=r\"buggy version\")\n",
    "plt.legend(loc='best' )\n",
    "plt.savefig(figfile_path, bbox_inches = 'tight', dpi = 150);\n",
    "plt.show()"
   ]
  }
 ],
 "metadata": {
  "kernelspec": {
   "display_name": "Python 3.8 - Learning [learning/conda-2020.11-py38-cpu]",
   "language": "python",
   "name": "sys_learning38"
  },
  "language_info": {
   "codemirror_mode": {
    "name": "ipython",
    "version": 3
   },
   "file_extension": ".py",
   "mimetype": "text/x-python",
   "name": "python",
   "nbconvert_exporter": "python",
   "pygments_lexer": "ipython3",
   "version": "3.8.5"
  }
 },
 "nbformat": 4,
 "nbformat_minor": 5
}
