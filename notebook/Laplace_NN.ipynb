{
 "cells": [
  {
   "cell_type": "code",
   "execution_count": 1,
   "id": "62ce65b3-174c-48de-8ef7-05c84b6ae11d",
   "metadata": {},
   "outputs": [],
   "source": [
    "import numpy as np\n",
    "from scipy.special import erf\n",
    "import os\n",
    "import sys\n",
    "import time\n",
    "import copy\n",
    "import logging\n",
    "import matplotlib.pyplot as plt\n",
    "\n",
    "# Navigate to the parent directory of the project structure\n",
    "project_dir = os.path.abspath(os.path.join(os.getcwd(), '..'))\n",
    "src_dir = os.path.join(project_dir, 'src')\n",
    "log_dir = os.path.join(project_dir, 'log')\n",
    "fig_dir = os.path.join(project_dir, 'fig')\n",
    "\n",
    "# Add the src directory to sys.path\n",
    "sys.path.append(src_dir)\n",
    "\n",
    "from estimator.Laplace import LaplaceEstimator\n",
    "from analysis.commons import batch_estimator_estimated_delta, compute_bootstrap_range\n",
    "from utils.constants import WORKERS"
   ]
  },
  {
   "cell_type": "code",
   "execution_count": 2,
   "id": "2bbe5a75-b2ec-43cf-bfb1-449dd8f212ab",
   "metadata": {},
   "outputs": [],
   "source": [
    "def generate_default_configuration():\n",
    "    epsilon = 1\n",
    "    claimed_epsilon = 1\n",
    "    gamma = 0.01\n",
    "\n",
    "    dataset_settings = {\n",
    "        'database_0': [0],\n",
    "        'database_1': [1],\n",
    "        'sensitivity': 1.,\n",
    "        'epsilon': epsilon,\n",
    "        'claimed_epsilon': claimed_epsilon,\n",
    "        'delta': 0.00001\n",
    "    }\n",
    "\n",
    "    kwargs = {\n",
    "        'dataset_settings': dataset_settings, \n",
    "        'gamma': gamma,\n",
    "        'training_set_size': 10**7, 'validation_set_size': 10**6\n",
    "    }\n",
    "    return kwargs\n",
    "\n",
    "def store_array_str(data_array):\n",
    "    converted_str = np.array_str(data_array)\n",
    "    converted_str = converted_str.replace(' ',',')\n",
    "    return converted_str"
   ]
  },
  {
   "cell_type": "code",
   "execution_count": 3,
   "id": "0f17ee28-17f1-48cc-aa35-bb0dcdfa5988",
   "metadata": {},
   "outputs": [],
   "source": [
    "logfile_path = os.path.join(log_dir, 'NN-Laplace-default.log')\n",
    "\n",
    "logging.basicConfig(\n",
    "        level=logging.INFO,\n",
    "        format=\"%(asctime)s %(message)s\",\n",
    "        handlers=[\n",
    "            logging.FileHandler(logfile_path),\n",
    "            # logging.StreamHandler()\n",
    "        ]\n",
    "    )\n",
    "\n",
    "logging.info('Initialize the experimental settings')\n",
    "kwargs = generate_default_configuration()"
   ]
  },
  {
   "cell_type": "code",
   "execution_count": null,
   "id": "34850b23-5627-4522-84c0-86d9aca45cc1",
   "metadata": {},
   "outputs": [],
   "source": [
    "claimed_epsilon_list = np.arange(0.01, 0.2, 0.02)\n",
    "d = 50\n",
    "kwargs['dataset_settings']['database_0'] = [0]*d\n",
    "kwargs['dataset_settings']['database_1'] = [1.0/d]*d\n",
    "\n",
    "file_name = \"/tmp/Laplace_NN\"\n",
    "estimated_delta_list = []\n",
    "\n",
    "for claimed_epsilon in claimed_epsilon_list:\n",
    "    kwargs['dataset_settings']['claimed_epsilon'] = claimed_epsilon\n",
    "    estimator = LaplaceEstimator(kwargs)\n",
    "    classifier_args = {\"n_epoch\": 50, \"batch_size\": 500, \"lr\": 0.00001, \"n_batches\": 100, \"model\": None}\n",
    "    estimator.parallel_build(classifier=\"NeuralNetwork\", file_name=file_name, workers=50, classifier_args=classifier_args)\n",
    "    logging.info(estimator.output_)\n",
    "    estimated_delta_list.append(estimator.output_['estimated_delta'])"
   ]
  },
  {
   "cell_type": "code",
   "execution_count": 9,
   "id": "30f3ed3e-44d5-4fa1-83c6-63a49214a599",
   "metadata": {},
   "outputs": [
    {
     "data": {
      "image/png": "[encoded data removed]",
      "text/plain": [
       "<Figure size 432x288 with 1 Axes>"
      ]
     },
     "metadata": {
      "needs_background": "light"
     },
     "output_type": "display_data"
    }
   ],
   "source": [
    "figfile_path = os.path.join(fig_dir, 'Laplace_kd.png')\n",
    "\n",
    "plt.title(r'$\\mathcal{M}_{L, \\epsilon=1}, d=50$')\n",
    "plt.xlabel(r\"$\\epsilon \\in (0, 1)$\")\n",
    "plt.ylabel(\"optimal delta\")\n",
    "\n",
    "plt.plot(claimed_epsilon_list, estimated_delta_list , linestyle='-', marker='.', color =\"red\", label=r\"Estimated $\\delta$\")\n",
    "plt.legend(loc='upper right')\n",
    "plt.savefig(figfile_path, bbox_inches = 'tight', dpi = 150);\n",
    "plt.show()"
   ]
  },
  {
   "cell_type": "code",
   "execution_count": null,
   "id": "8db5d294-3f39-4b7a-9a15-eb9511df6887",
   "metadata": {},
   "outputs": [],
   "source": []
  }
 ],
 "metadata": {
  "kernelspec": {
   "display_name": "pytorch",
   "language": "python",
   "name": "python3"
  },
  "language_info": {
   "codemirror_mode": {
    "name": "ipython",
    "version": 3
   },
   "file_extension": ".py",
   "mimetype": "text/x-python",
   "name": "python",
   "nbconvert_exporter": "python",
   "pygments_lexer": "ipython3",
   "version": "3.12.10"
  }
 },
 "nbformat": 4,
 "nbformat_minor": 5
}
