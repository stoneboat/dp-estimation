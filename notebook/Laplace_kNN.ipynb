{
 "cells": [
  {
   "cell_type": "code",
   "execution_count": 1,
   "id": "62ce65b3-174c-48de-8ef7-05c84b6ae11d",
   "metadata": {},
   "outputs": [],
   "source": [
    "import numpy as np\n",
    "from scipy.special import erf\n",
    "import os\n",
    "import sys\n",
    "import time\n",
    "import copy\n",
    "import logging\n",
    "import matplotlib.pyplot as plt\n",
    "\n",
    "# Navigate to the parent directory of the project structure\n",
    "project_dir = os.path.abspath(os.path.join(os.getcwd(), '..'))\n",
    "src_dir = os.path.join(project_dir, 'src')\n",
    "log_dir = os.path.join(project_dir, 'log')\n",
    "fig_dir = os.path.join(project_dir, 'fig')\n",
    "\n",
    "# Add the src directory to sys.path\n",
    "sys.path.append(src_dir)\n",
    "\n",
    "from estimator.Laplace import LaplaceEstimator\n",
    "from analysis.commons import batch_estimator_estimated_delta, compute_bootstrap_range\n",
    "from utils.constants import WORKERS"
   ]
  },
  {
   "cell_type": "code",
   "execution_count": 2,
   "id": "2bbe5a75-b2ec-43cf-bfb1-449dd8f212ab",
   "metadata": {},
   "outputs": [],
   "source": [
    "def generate_default_configuration():\n",
    "    epsilon = 1\n",
    "    claimed_epsilon = 1\n",
    "    gamma = 0.01\n",
    "\n",
    "    dataset_settings = {\n",
    "        'database_0': [0],\n",
    "        'database_1': [1],\n",
    "        'sensitivity': 1.,\n",
    "        'epsilon': epsilon,\n",
    "        'claimed_epsilon': claimed_epsilon,\n",
    "        'delta': 0.00001\n",
    "    }\n",
    "\n",
    "    kwargs = {\n",
    "        'dataset_settings': dataset_settings, \n",
    "        'gamma': gamma,\n",
    "        'training_set_size': 10**7, 'validation_set_size': 10**7\n",
    "    }\n",
    "    return kwargs\n",
    "\n",
    "def store_array_str(data_array):\n",
    "    converted_str = np.array_str(data_array)\n",
    "    converted_str = converted_str.replace(' ',',')\n",
    "    return converted_str"
   ]
  },
  {
   "cell_type": "code",
   "execution_count": 3,
   "id": "0f17ee28-17f1-48cc-aa35-bb0dcdfa5988",
   "metadata": {},
   "outputs": [],
   "source": [
    "logfile_path = os.path.join(log_dir, 'kNN-Laplace-default.log')\n",
    "\n",
    "logging.basicConfig(\n",
    "        level=logging.CRITICAL,\n",
    "        format=\"%(asctime)s %(message)s\",\n",
    "        handlers=[\n",
    "            logging.FileHandler(logfile_path),\n",
    "            logging.StreamHandler()\n",
    "        ]\n",
    "    )\n",
    "\n",
    "logging.info('Initialize the experimental settings')\n",
    "kwargs = generate_default_configuration()"
   ]
  },
  {
   "cell_type": "code",
   "execution_count": 4,
   "id": "34850b23-5627-4522-84c0-86d9aca45cc1",
   "metadata": {},
   "outputs": [
    {
     "name": "stderr",
     "output_type": "stream",
     "text": [
      "2024-12-08 16:03:09,925 Compute the empirical error rate requires 287.8772 seconds\n",
      "2024-12-08 16:03:10,114 Compute the empirical error rate requires 287.9442 seconds\n",
      "2024-12-08 16:03:10,371 Compute the empirical error rate requires 287.9227 seconds\n",
      "2024-12-08 16:03:11,154 Compute the empirical error rate requires 289.0094 seconds\n",
      "2024-12-08 16:03:11,455 Compute the empirical error rate requires 288.9066 seconds\n",
      "2024-12-08 16:03:11,913 Compute the empirical error rate requires 289.5594 seconds\n",
      "2024-12-08 16:03:12,998 Compute the empirical error rate requires 290.3907 seconds\n",
      "2024-12-08 16:03:15,638 Compute the empirical error rate requires 292.6902 seconds\n",
      "2024-12-08 16:03:16,182 Compute the empirical error rate requires 294.1195 seconds\n",
      "2024-12-08 16:03:16,505 Compute the empirical error rate requires 294.3227 seconds\n",
      "2024-12-08 16:03:16,532 Compute the empirical error rate requires 294.3170 seconds\n",
      "2024-12-08 16:03:17,023 Compute the empirical error rate requires 294.6344 seconds\n",
      "2024-12-08 16:03:17,226 Compute the empirical error rate requires 294.2621 seconds\n",
      "2024-12-08 16:03:17,543 Compute the empirical error rate requires 295.6853 seconds\n",
      "2024-12-08 16:03:18,556 Compute the empirical error rate requires 295.4746 seconds\n",
      "2024-12-08 16:03:18,751 Compute the empirical error rate requires 295.7251 seconds\n",
      "2024-12-08 16:03:19,744 Compute the empirical error rate requires 296.6477 seconds\n",
      "2024-12-08 16:03:20,511 Compute the empirical error rate requires 297.7255 seconds\n",
      "2024-12-08 16:03:21,001 Compute the empirical error rate requires 297.7452 seconds\n",
      "2024-12-08 16:03:21,016 Compute the empirical error rate requires 298.3143 seconds\n",
      "2024-12-08 16:03:21,355 Compute the empirical error rate requires 298.4125 seconds\n",
      "2024-12-08 16:03:22,352 Compute the empirical error rate requires 299.3661 seconds\n",
      "2024-12-08 16:03:22,400 Compute the empirical error rate requires 299.3711 seconds\n",
      "2024-12-08 16:03:23,054 Compute the empirical error rate requires 299.8117 seconds\n",
      "2024-12-08 16:03:23,085 Compute the empirical error rate requires 300.1002 seconds\n",
      "2024-12-08 16:03:23,088 Compute the empirical error rate requires 300.0701 seconds\n",
      "2024-12-08 16:03:25,292 Compute the empirical error rate requires 302.9572 seconds\n"
     ]
    }
   ],
   "source": [
    "claimed_epsilon_list = np.hstack((np.arange(0.01, 0.1, 0.01), np.arange(0.1, 1, 0.05)))\n",
    "input_list = []\n",
    "for claimed_epsilon in claimed_epsilon_list:\n",
    "    kwargs['dataset_settings']['claimed_epsilon'] = claimed_epsilon\n",
    "    input_ = copy.deepcopy({'estimator_cls': LaplaceEstimator, 'config': kwargs})\n",
    "    input_list.append(input_)\n",
    "\n",
    "estimated_delta = batch_estimator_estimated_delta(kwargs_lists=input_list, workers=60)"
   ]
  },
  {
   "cell_type": "code",
   "execution_count": 6,
   "id": "30f3ed3e-44d5-4fa1-83c6-63a49214a599",
   "metadata": {},
   "outputs": [
    {
     "data": {
      "image/png": "[encoded data removed]",
      "text/plain": [
       "<Figure size 432x288 with 1 Axes>"
      ]
     },
     "metadata": {
      "needs_background": "light"
     },
     "output_type": "display_data"
    }
   ],
   "source": [
    "figfile_path = os.path.join(fig_dir, 'Laplace_1d.png')\n",
    "\n",
    "test = 1 - np.exp(-0.5*(1-claimed_epsilon_list))\n",
    "\n",
    "plt.title(r'$\\mathcal{M}_{L, \\epsilon=1}$')\n",
    "plt.xlabel(r\"$\\epsilon \\in (0, 1)$\")\n",
    "plt.ylabel(\"optimal delta\")\n",
    "\n",
    "plt.plot(claimed_epsilon_list, test , color =\"blue\", label=r\"Analytically computed $\\delta$\")\n",
    "plt.plot(claimed_epsilon_list, estimated_delta , \".\", color =\"red\", label=r\"Estimated $\\delta$\")\n",
    "plt.legend(loc='upper right')\n",
    "plt.savefig(figfile_path, bbox_inches = 'tight', dpi = 150);\n",
    "plt.show()"
   ]
  },
  {
   "cell_type": "code",
   "execution_count": null,
   "id": "35fde0a1-cdd8-4a5b-aab6-fbdb89c1df61",
   "metadata": {},
   "outputs": [],
   "source": []
  }
 ],
 "metadata": {
  "kernelspec": {
   "display_name": "Python 3.8 - Learning [learning/conda-2020.11-py38-cpu]",
   "language": "python",
   "name": "sys_learning38"
  },
  "language_info": {
   "codemirror_mode": {
    "name": "ipython",
    "version": 3
   },
   "file_extension": ".py",
   "mimetype": "text/x-python",
   "name": "python",
   "nbconvert_exporter": "python",
   "pygments_lexer": "ipython3",
   "version": "3.8.5"
  }
 },
 "nbformat": 4,
 "nbformat_minor": 5
}
