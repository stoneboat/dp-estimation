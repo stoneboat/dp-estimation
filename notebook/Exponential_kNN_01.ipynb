{
 "cells": [
  {
   "cell_type": "code",
   "execution_count": 1,
   "id": "62ce65b3-174c-48de-8ef7-05c84b6ae11d",
   "metadata": {},
   "outputs": [],
   "source": [
    "import numpy as np\n",
    "from scipy.special import erf\n",
    "import os\n",
    "import sys\n",
    "import time\n",
    "import copy\n",
    "import logging\n",
    "import matplotlib.pyplot as plt\n",
    "\n",
    "# Navigate to the parent directory of the project structure\n",
    "project_dir = os.path.abspath(os.path.join(os.getcwd(), '..'))\n",
    "src_dir = os.path.join(project_dir, 'src')\n",
    "log_dir = os.path.join(project_dir, 'log')\n",
    "fig_dir = os.path.join(project_dir, 'fig')\n",
    "\n",
    "# Add the src directory to sys.path\n",
    "sys.path.append(src_dir)\n",
    "\n",
    "from estimator.Exponential import ExpEstimator\n",
    "from analysis.commons import batch_estimator_estimated_delta, compute_bootstrap_range\n",
    "from utils.constants import WORKERS"
   ]
  },
  {
   "cell_type": "code",
   "execution_count": 2,
   "id": "2bbe5a75-b2ec-43cf-bfb1-449dd8f212ab",
   "metadata": {},
   "outputs": [],
   "source": [
    "def generate_default_configuration():\n",
    "    claimed_epsilon = 0.02\n",
    "    epsilon = 2\n",
    "    gamma = 0.01\n",
    "\n",
    "    dataset_settings = {\n",
    "        'database_0': np.array([0, 1, 1]),\n",
    "        'database_1': np.array([0, 1]),\n",
    "        'outcomes_size': 3,\n",
    "        'sensitivity': 1,\n",
    "        'epsilon': epsilon,\n",
    "        'claimed_epsilon': claimed_epsilon,\n",
    "    }\n",
    "\n",
    "    kwargs = {\n",
    "        'dataset_settings': dataset_settings, \n",
    "        'gamma': gamma,\n",
    "        'training_set_size': 10**7, 'validation_set_size': 10**7\n",
    "    }\n",
    "    return kwargs\n",
    "\n",
    "def store_array_str(data_array):\n",
    "    converted_str = np.array_str(data_array)\n",
    "    converted_str = converted_str.replace(' ',',')\n",
    "    return converted_str"
   ]
  },
  {
   "cell_type": "code",
   "execution_count": 3,
   "id": "0f17ee28-17f1-48cc-aa35-bb0dcdfa5988",
   "metadata": {},
   "outputs": [],
   "source": [
    "logfile_path = os.path.join(log_dir, 'kNN-Exponential-default.log')\n",
    "\n",
    "logging.basicConfig(\n",
    "        level=logging.CRITICAL,\n",
    "        format=\"%(asctime)s %(message)s\",\n",
    "        handlers=[\n",
    "            logging.FileHandler(logfile_path),\n",
    "            logging.StreamHandler()\n",
    "        ]\n",
    "    )\n",
    "\n",
    "logging.info('Initialize the experimental settings')\n",
    "kwargs = generate_default_configuration()"
   ]
  },
  {
   "cell_type": "code",
   "execution_count": 4,
   "id": "4f009c7a-64e5-4cbe-8d9b-17a35992ca1c",
   "metadata": {},
   "outputs": [],
   "source": [
    "claimed_epsilon_list = np.hstack((np.arange(0, 0.1, 0.01),np.arange(0.1, 0.6, 0.04)))\n",
    "theoretical_delta_list = []\n",
    "\n",
    "for claimed_epsilon in claimed_epsilon_list:\n",
    "    kwargs[\"dataset_settings\"][\"claimed_epsilon\"] = claimed_epsilon\n",
    "    estimator = ExpEstimator(kwargs=kwargs)\n",
    "    theoretical_delta = estimator.sample_generator.theoretical_delta()\n",
    "    theoretical_delta_list.append(theoretical_delta)"
   ]
  },
  {
   "cell_type": "code",
   "execution_count": null,
   "id": "34850b23-5627-4522-84c0-86d9aca45cc1",
   "metadata": {},
   "outputs": [],
   "source": [
    "input_list = []\n",
    "for claimed_epsilon in claimed_epsilon_list:\n",
    "    kwargs['dataset_settings']['claimed_epsilon'] = claimed_epsilon\n",
    "    input_ = copy.deepcopy({'estimator_cls': ExpEstimator, 'config': kwargs})\n",
    "    input_list.append(input_)\n",
    "\n",
    "estimated_delta = batch_estimator_estimated_delta(kwargs_lists=input_list, workers=60)"
   ]
  },
  {
   "cell_type": "code",
   "execution_count": null,
   "id": "30f3ed3e-44d5-4fa1-83c6-63a49214a599",
   "metadata": {},
   "outputs": [],
   "source": [
    "figfile_path = os.path.join(fig_dir, 'Exp.png')\n",
    "\n",
    "test = 1 - np.exp(-0.5*(1-claimed_epsilon_list))\n",
    "\n",
    "plt.title(r'Exponential mechanism tested on a database')\n",
    "plt.xlabel(r\"$\\epsilon \\in (0, 1)$\")\n",
    "plt.ylabel(\"optimal delta\")\n",
    "\n",
    "plt.plot(claimed_epsilon_list, estimated_delta , \".\", color =\"red\", label=r\"estimated $\\delta$\")\n",
    "plt.plot(claimed_epsilon_list, theoretical_delta_list , color =\"blue\", label=r\"analytically computed $\\delta$\")\n",
    "plt.legend(loc='upper right')\n",
    "plt.savefig(figfile_path, bbox_inches = 'tight', dpi = 150);\n",
    "plt.show()"
   ]
  },
  {
   "cell_type": "code",
   "execution_count": null,
   "id": "35fde0a1-cdd8-4a5b-aab6-fbdb89c1df61",
   "metadata": {},
   "outputs": [],
   "source": []
  }
 ],
 "metadata": {
  "kernelspec": {
   "display_name": "Python 3.8 - Learning [learning/conda-2020.11-py38-cpu]",
   "language": "python",
   "name": "sys_learning38"
  },
  "language_info": {
   "codemirror_mode": {
    "name": "ipython",
    "version": 3
   },
   "file_extension": ".py",
   "mimetype": "text/x-python",
   "name": "python",
   "nbconvert_exporter": "python",
   "pygments_lexer": "ipython3",
   "version": "3.8.5"
  }
 },
 "nbformat": 4,
 "nbformat_minor": 5
}
